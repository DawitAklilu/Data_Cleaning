{
  "cells": [
    {
      "cell_type": "markdown",
      "metadata": {
        "id": "y6npQXwYNnaG"
      },
      "source": [
        "# Data Cleaning and the Machine Learning Workflow\n",
        "Dawit Aklilu"
      ]
    },
    {
      "cell_type": "code",
      "execution_count": 60,
      "metadata": {
        "id": "OBPUukf_mqHY"
      },
      "outputs": [],
      "source": [
        "##############################\n",
        "##          IMPORTS         ##\n",
        "##############################\n",
        "import numpy as np\n",
        "import pandas as pd\n",
        "import seaborn as sns\n",
        "import matplotlib.pyplot as plt"
      ]
    },
    {
      "cell_type": "markdown",
      "metadata": {
        "id": "6Tdd27MQPBE9"
      },
      "source": [
        "**EXERCISE 0:** Link your Google Drive."
      ]
    },
    {
      "cell_type": "code",
      "execution_count": 61,
      "metadata": {
        "colab": {
          "base_uri": "https://localhost:8080/"
        },
        "id": "2Js6YMrWPIId",
        "outputId": "c124a399-cf6c-472e-8b5d-c5e24cc4fce1"
      },
      "outputs": [],
      "source": [
        "# # GOOGLE DRIVE SET UP\n",
        "# from google.colab import drive\n",
        "# # Mount my Google Drive\n",
        "# drive.mount('/content/gdrive')"
      ]
    },
    {
      "cell_type": "code",
      "execution_count": 62,
      "metadata": {
        "id": "nMxPbg-KnQ0k"
      },
      "outputs": [],
      "source": [
        "data_dir = '/content/gdrive/My Drive/Colab Notebooks/'"
      ]
    },
    {
      "cell_type": "markdown",
      "metadata": {
        "id": "Mc9RHDmfPINt"
      },
      "source": [
        "**EXERCISE 1:** Import the `vehivles_small.csv` data set as a Pandas Dataframe and print the Dataframe. This data set is a shortened verions of [this data set](https://www.kaggle.com/datasets/austinreese/craigslist-carstrucks-data?resource=download) taken from Kaggle.com."
      ]
    },
    {
      "cell_type": "code",
      "execution_count": 63,
      "metadata": {
        "colab": {
          "base_uri": "https://localhost:8080/",
          "height": 1000
        },
        "id": "GRZOwSMgoCXt",
        "outputId": "bd4c76cf-44da-46e3-8404-100841ee88b4"
      },
      "outputs": [
        {
          "data": {
            "text/html": [
              "<div>\n",
              "<style scoped>\n",
              "    .dataframe tbody tr th:only-of-type {\n",
              "        vertical-align: middle;\n",
              "    }\n",
              "\n",
              "    .dataframe tbody tr th {\n",
              "        vertical-align: top;\n",
              "    }\n",
              "\n",
              "    .dataframe thead th {\n",
              "        text-align: right;\n",
              "    }\n",
              "</style>\n",
              "<table border=\"1\" class=\"dataframe\">\n",
              "  <thead>\n",
              "    <tr style=\"text-align: right;\">\n",
              "      <th></th>\n",
              "      <th>Unnamed: 0</th>\n",
              "      <th>id</th>\n",
              "      <th>url</th>\n",
              "      <th>region</th>\n",
              "      <th>region_url</th>\n",
              "      <th>price</th>\n",
              "      <th>year</th>\n",
              "      <th>manufacturer</th>\n",
              "      <th>model</th>\n",
              "      <th>condition</th>\n",
              "      <th>cylinders</th>\n",
              "      <th>fuel</th>\n",
              "      <th>odometer</th>\n",
              "      <th>title_status</th>\n",
              "      <th>transmission</th>\n",
              "      <th>VIN</th>\n",
              "      <th>drive</th>\n",
              "      <th>size</th>\n",
              "      <th>type</th>\n",
              "      <th>paint_color</th>\n",
              "      <th>image_url</th>\n",
              "      <th>description</th>\n",
              "      <th>county</th>\n",
              "      <th>state</th>\n",
              "      <th>lat</th>\n",
              "      <th>long</th>\n",
              "      <th>posting_date</th>\n",
              "    </tr>\n",
              "  </thead>\n",
              "  <tbody>\n",
              "    <tr>\n",
              "      <th>0</th>\n",
              "      <td>262922</td>\n",
              "      <td>7313427491</td>\n",
              "      <td>https://santafe.craigslist.org/ctd/d/santa-fe-...</td>\n",
              "      <td>santa fe / taos</td>\n",
              "      <td>https://santafe.craigslist.org</td>\n",
              "      <td>9950</td>\n",
              "      <td>2013.0</td>\n",
              "      <td>ford</td>\n",
              "      <td>focus</td>\n",
              "      <td>like new</td>\n",
              "      <td>4 cylinders</td>\n",
              "      <td>gas</td>\n",
              "      <td>95000.0</td>\n",
              "      <td>clean</td>\n",
              "      <td>automatic</td>\n",
              "      <td>1FADP3K20DL139407</td>\n",
              "      <td>fwd</td>\n",
              "      <td>NaN</td>\n",
              "      <td>hatchback</td>\n",
              "      <td>white</td>\n",
              "      <td>https://images.craigslist.org/00R0R_hcVfzCCqmN...</td>\n",
              "      <td>1 OWNER! Automatic Transmission  2.0L 4 Cylind...</td>\n",
              "      <td>NaN</td>\n",
              "      <td>nm</td>\n",
              "      <td>35.650400</td>\n",
              "      <td>-106.000200</td>\n",
              "      <td>2021-04-27T11:52:53-0600</td>\n",
              "    </tr>\n",
              "    <tr>\n",
              "      <th>1</th>\n",
              "      <td>119600</td>\n",
              "      <td>7314311823</td>\n",
              "      <td>https://treasure.craigslist.org/ctd/d/vero-bea...</td>\n",
              "      <td>treasure coast</td>\n",
              "      <td>https://treasure.craigslist.org</td>\n",
              "      <td>39500</td>\n",
              "      <td>2016.0</td>\n",
              "      <td>gmc</td>\n",
              "      <td>yukon xl denali</td>\n",
              "      <td>excellent</td>\n",
              "      <td>8 cylinders</td>\n",
              "      <td>gas</td>\n",
              "      <td>91351.0</td>\n",
              "      <td>clean</td>\n",
              "      <td>automatic</td>\n",
              "      <td>NaN</td>\n",
              "      <td>4wd</td>\n",
              "      <td>NaN</td>\n",
              "      <td>SUV</td>\n",
              "      <td>NaN</td>\n",
              "      <td>https://images.craigslist.org/00202_btbztUwCbQ...</td>\n",
              "      <td>Mileage: 91,351 Body: SUV Drivetrain: 4X4 Exte...</td>\n",
              "      <td>NaN</td>\n",
              "      <td>fl</td>\n",
              "      <td>27.588500</td>\n",
              "      <td>-80.392300</td>\n",
              "      <td>2021-04-29T11:00:14-0400</td>\n",
              "    </tr>\n",
              "    <tr>\n",
              "      <th>2</th>\n",
              "      <td>293948</td>\n",
              "      <td>7307759238</td>\n",
              "      <td>https://cleveland.craigslist.org/ctd/d/rocky-r...</td>\n",
              "      <td>cleveland</td>\n",
              "      <td>https://cleveland.craigslist.org</td>\n",
              "      <td>24329</td>\n",
              "      <td>2018.0</td>\n",
              "      <td>gmc</td>\n",
              "      <td>terrain</td>\n",
              "      <td>NaN</td>\n",
              "      <td>4 cylinders</td>\n",
              "      <td>gas</td>\n",
              "      <td>14598.0</td>\n",
              "      <td>clean</td>\n",
              "      <td>automatic</td>\n",
              "      <td>NaN</td>\n",
              "      <td>4wd</td>\n",
              "      <td>mid-size</td>\n",
              "      <td>SUV</td>\n",
              "      <td>brown</td>\n",
              "      <td>https://images.craigslist.org/01010_lExB4IQYsR...</td>\n",
              "      <td>Most common questions about this vehicle:  Wan...</td>\n",
              "      <td>NaN</td>\n",
              "      <td>oh</td>\n",
              "      <td>41.456783</td>\n",
              "      <td>-81.883689</td>\n",
              "      <td>2021-04-16T12:22:01-0400</td>\n",
              "    </tr>\n",
              "    <tr>\n",
              "      <th>3</th>\n",
              "      <td>254392</td>\n",
              "      <td>7314342138</td>\n",
              "      <td>https://newjersey.craigslist.org/ctd/d/newark-...</td>\n",
              "      <td>north jersey</td>\n",
              "      <td>https://newjersey.craigslist.org</td>\n",
              "      <td>12300</td>\n",
              "      <td>2016.0</td>\n",
              "      <td>mitsubishi</td>\n",
              "      <td>outlander se</td>\n",
              "      <td>excellent</td>\n",
              "      <td>4 cylinders</td>\n",
              "      <td>gas</td>\n",
              "      <td>107071.0</td>\n",
              "      <td>clean</td>\n",
              "      <td>automatic</td>\n",
              "      <td>JA4AZ3A3XGZ016260</td>\n",
              "      <td>4wd</td>\n",
              "      <td>full-size</td>\n",
              "      <td>SUV</td>\n",
              "      <td>silver</td>\n",
              "      <td>https://images.craigslist.org/01313_gvBriFOQwC...</td>\n",
              "      <td>🔥2016 MITSUBISHI OUTLANDER SE 🔥CLEAN TITLE 🔥$1...</td>\n",
              "      <td>NaN</td>\n",
              "      <td>nj</td>\n",
              "      <td>40.728887</td>\n",
              "      <td>-74.150686</td>\n",
              "      <td>2021-04-29T11:52:17-0400</td>\n",
              "    </tr>\n",
              "    <tr>\n",
              "      <th>4</th>\n",
              "      <td>116669</td>\n",
              "      <td>7316531721</td>\n",
              "      <td>https://tampa.craigslist.org/hil/ctd/d/tampa-2...</td>\n",
              "      <td>tampa bay area</td>\n",
              "      <td>https://tampa.craigslist.org</td>\n",
              "      <td>19995</td>\n",
              "      <td>2015.0</td>\n",
              "      <td>chevrolet</td>\n",
              "      <td>silverado</td>\n",
              "      <td>NaN</td>\n",
              "      <td>NaN</td>\n",
              "      <td>gas</td>\n",
              "      <td>213013.0</td>\n",
              "      <td>clean</td>\n",
              "      <td>NaN</td>\n",
              "      <td>3GCPCREC0FG351282</td>\n",
              "      <td>rwd</td>\n",
              "      <td>NaN</td>\n",
              "      <td>pickup</td>\n",
              "      <td>black</td>\n",
              "      <td>https://images.craigslist.org/00R0R_5backjRURS...</td>\n",
              "      <td>2015 Chevrolet Chevy Silverado 1500 LT Crew Ca...</td>\n",
              "      <td>NaN</td>\n",
              "      <td>fl</td>\n",
              "      <td>27.999033</td>\n",
              "      <td>-82.459702</td>\n",
              "      <td>2021-05-03T20:40:33-0400</td>\n",
              "    </tr>\n",
              "    <tr>\n",
              "      <th>...</th>\n",
              "      <td>...</td>\n",
              "      <td>...</td>\n",
              "      <td>...</td>\n",
              "      <td>...</td>\n",
              "      <td>...</td>\n",
              "      <td>...</td>\n",
              "      <td>...</td>\n",
              "      <td>...</td>\n",
              "      <td>...</td>\n",
              "      <td>...</td>\n",
              "      <td>...</td>\n",
              "      <td>...</td>\n",
              "      <td>...</td>\n",
              "      <td>...</td>\n",
              "      <td>...</td>\n",
              "      <td>...</td>\n",
              "      <td>...</td>\n",
              "      <td>...</td>\n",
              "      <td>...</td>\n",
              "      <td>...</td>\n",
              "      <td>...</td>\n",
              "      <td>...</td>\n",
              "      <td>...</td>\n",
              "      <td>...</td>\n",
              "      <td>...</td>\n",
              "      <td>...</td>\n",
              "      <td>...</td>\n",
              "    </tr>\n",
              "    <tr>\n",
              "      <th>49995</th>\n",
              "      <td>250572</td>\n",
              "      <td>7312817736</td>\n",
              "      <td>https://cnj.craigslist.org/ctd/d/trenton-2017-...</td>\n",
              "      <td>central NJ</td>\n",
              "      <td>https://cnj.craigslist.org</td>\n",
              "      <td>31590</td>\n",
              "      <td>2017.0</td>\n",
              "      <td>bmw</td>\n",
              "      <td>4 series 440i gran coupe 4d</td>\n",
              "      <td>good</td>\n",
              "      <td>NaN</td>\n",
              "      <td>gas</td>\n",
              "      <td>34455.0</td>\n",
              "      <td>clean</td>\n",
              "      <td>other</td>\n",
              "      <td>WBA4E3C55HG186971</td>\n",
              "      <td>rwd</td>\n",
              "      <td>NaN</td>\n",
              "      <td>coupe</td>\n",
              "      <td>blue</td>\n",
              "      <td>https://images.craigslist.org/00G0G_2CDb9LdMkM...</td>\n",
              "      <td>Carvana is the safer way to buy a car During t...</td>\n",
              "      <td>NaN</td>\n",
              "      <td>nj</td>\n",
              "      <td>40.220000</td>\n",
              "      <td>-74.760000</td>\n",
              "      <td>2021-04-26T11:30:52-0400</td>\n",
              "    </tr>\n",
              "    <tr>\n",
              "      <th>49996</th>\n",
              "      <td>204486</td>\n",
              "      <td>7311921134</td>\n",
              "      <td>https://kalamazoo.craigslist.org/ctd/d/chesani...</td>\n",
              "      <td>kalamazoo</td>\n",
              "      <td>https://kalamazoo.craigslist.org</td>\n",
              "      <td>5495</td>\n",
              "      <td>2010.0</td>\n",
              "      <td>chrysler</td>\n",
              "      <td>town &amp; country</td>\n",
              "      <td>NaN</td>\n",
              "      <td>NaN</td>\n",
              "      <td>gas</td>\n",
              "      <td>144909.0</td>\n",
              "      <td>clean</td>\n",
              "      <td>automatic</td>\n",
              "      <td>NaN</td>\n",
              "      <td>NaN</td>\n",
              "      <td>NaN</td>\n",
              "      <td>NaN</td>\n",
              "      <td>NaN</td>\n",
              "      <td>https://images.craigslist.org/00v0v_jw0ikGAyNn...</td>\n",
              "      <td>WE HAVE OVER 350 VEHICLES IN STOCK!   View Our...</td>\n",
              "      <td>NaN</td>\n",
              "      <td>mi</td>\n",
              "      <td>43.182400</td>\n",
              "      <td>-84.112200</td>\n",
              "      <td>2021-04-24T12:49:30-0400</td>\n",
              "    </tr>\n",
              "    <tr>\n",
              "      <th>49997</th>\n",
              "      <td>366950</td>\n",
              "      <td>7307119394</td>\n",
              "      <td>https://brownsville.craigslist.org/ctd/d/alamo...</td>\n",
              "      <td>brownsville</td>\n",
              "      <td>https://brownsville.craigslist.org</td>\n",
              "      <td>51495</td>\n",
              "      <td>2019.0</td>\n",
              "      <td>infiniti</td>\n",
              "      <td>qx80</td>\n",
              "      <td>NaN</td>\n",
              "      <td>NaN</td>\n",
              "      <td>gas</td>\n",
              "      <td>23193.0</td>\n",
              "      <td>clean</td>\n",
              "      <td>automatic</td>\n",
              "      <td>JN8AZ2NF9K9683810</td>\n",
              "      <td>NaN</td>\n",
              "      <td>NaN</td>\n",
              "      <td>NaN</td>\n",
              "      <td>white</td>\n",
              "      <td>https://images.craigslist.org/00E0E_4m2Lqi60hQ...</td>\n",
              "      <td>Jaguar Land Rover of San Juan address:    601 ...</td>\n",
              "      <td>NaN</td>\n",
              "      <td>tx</td>\n",
              "      <td>26.193466</td>\n",
              "      <td>-98.145378</td>\n",
              "      <td>2021-04-15T08:01:24-0500</td>\n",
              "    </tr>\n",
              "    <tr>\n",
              "      <th>49998</th>\n",
              "      <td>271655</td>\n",
              "      <td>7307657039</td>\n",
              "      <td>https://ithaca.craigslist.org/ctd/d/spencerpor...</td>\n",
              "      <td>ithaca</td>\n",
              "      <td>https://ithaca.craigslist.org</td>\n",
              "      <td>14995</td>\n",
              "      <td>2013.0</td>\n",
              "      <td>ford</td>\n",
              "      <td>econoline cargo van</td>\n",
              "      <td>good</td>\n",
              "      <td>8 cylinders</td>\n",
              "      <td>other</td>\n",
              "      <td>118198.0</td>\n",
              "      <td>clean</td>\n",
              "      <td>automatic</td>\n",
              "      <td>1FTNS2EW2DDB26075</td>\n",
              "      <td>rwd</td>\n",
              "      <td>NaN</td>\n",
              "      <td>van</td>\n",
              "      <td>silver</td>\n",
              "      <td>https://images.craigslist.org/00g0g_aPschTIyMK...</td>\n",
              "      <td>Why Buy From Twin Work Vans?Twin Work Vans is ...</td>\n",
              "      <td>NaN</td>\n",
              "      <td>ny</td>\n",
              "      <td>43.220454</td>\n",
              "      <td>-77.819038</td>\n",
              "      <td>2021-04-16T09:40:31-0400</td>\n",
              "    </tr>\n",
              "    <tr>\n",
              "      <th>49999</th>\n",
              "      <td>143996</td>\n",
              "      <td>7311629600</td>\n",
              "      <td>https://quadcities.craigslist.org/ctd/d/clinto...</td>\n",
              "      <td>quad cities, IA/IL</td>\n",
              "      <td>https://quadcities.craigslist.org</td>\n",
              "      <td>20950</td>\n",
              "      <td>2013.0</td>\n",
              "      <td>chevrolet</td>\n",
              "      <td>silverado 1500 lt 4x4</td>\n",
              "      <td>excellent</td>\n",
              "      <td>8 cylinders</td>\n",
              "      <td>gas</td>\n",
              "      <td>94952.0</td>\n",
              "      <td>clean</td>\n",
              "      <td>automatic</td>\n",
              "      <td>3GCPKSE72DG214872</td>\n",
              "      <td>4wd</td>\n",
              "      <td>full-size</td>\n",
              "      <td>truck</td>\n",
              "      <td>black</td>\n",
              "      <td>https://images.craigslist.org/00P0P_1FkYqXrp9r...</td>\n",
              "      <td>Selling this 2013 Chevrolet Silverado LT 4x4 w...</td>\n",
              "      <td>NaN</td>\n",
              "      <td>il</td>\n",
              "      <td>41.829639</td>\n",
              "      <td>-90.202114</td>\n",
              "      <td>2021-04-23T17:56:39-0500</td>\n",
              "    </tr>\n",
              "  </tbody>\n",
              "</table>\n",
              "<p>50000 rows × 27 columns</p>\n",
              "</div>"
            ],
            "text/plain": [
              "       Unnamed: 0          id  \\\n",
              "0          262922  7313427491   \n",
              "1          119600  7314311823   \n",
              "2          293948  7307759238   \n",
              "3          254392  7314342138   \n",
              "4          116669  7316531721   \n",
              "...           ...         ...   \n",
              "49995      250572  7312817736   \n",
              "49996      204486  7311921134   \n",
              "49997      366950  7307119394   \n",
              "49998      271655  7307657039   \n",
              "49999      143996  7311629600   \n",
              "\n",
              "                                                     url              region  \\\n",
              "0      https://santafe.craigslist.org/ctd/d/santa-fe-...     santa fe / taos   \n",
              "1      https://treasure.craigslist.org/ctd/d/vero-bea...      treasure coast   \n",
              "2      https://cleveland.craigslist.org/ctd/d/rocky-r...           cleveland   \n",
              "3      https://newjersey.craigslist.org/ctd/d/newark-...        north jersey   \n",
              "4      https://tampa.craigslist.org/hil/ctd/d/tampa-2...      tampa bay area   \n",
              "...                                                  ...                 ...   \n",
              "49995  https://cnj.craigslist.org/ctd/d/trenton-2017-...          central NJ   \n",
              "49996  https://kalamazoo.craigslist.org/ctd/d/chesani...           kalamazoo   \n",
              "49997  https://brownsville.craigslist.org/ctd/d/alamo...         brownsville   \n",
              "49998  https://ithaca.craigslist.org/ctd/d/spencerpor...              ithaca   \n",
              "49999  https://quadcities.craigslist.org/ctd/d/clinto...  quad cities, IA/IL   \n",
              "\n",
              "                               region_url  price    year manufacturer  \\\n",
              "0          https://santafe.craigslist.org   9950  2013.0         ford   \n",
              "1         https://treasure.craigslist.org  39500  2016.0          gmc   \n",
              "2        https://cleveland.craigslist.org  24329  2018.0          gmc   \n",
              "3        https://newjersey.craigslist.org  12300  2016.0   mitsubishi   \n",
              "4            https://tampa.craigslist.org  19995  2015.0    chevrolet   \n",
              "...                                   ...    ...     ...          ...   \n",
              "49995          https://cnj.craigslist.org  31590  2017.0          bmw   \n",
              "49996    https://kalamazoo.craigslist.org   5495  2010.0     chrysler   \n",
              "49997  https://brownsville.craigslist.org  51495  2019.0     infiniti   \n",
              "49998       https://ithaca.craigslist.org  14995  2013.0         ford   \n",
              "49999   https://quadcities.craigslist.org  20950  2013.0    chevrolet   \n",
              "\n",
              "                             model  condition    cylinders   fuel  odometer  \\\n",
              "0                            focus   like new  4 cylinders    gas   95000.0   \n",
              "1                  yukon xl denali  excellent  8 cylinders    gas   91351.0   \n",
              "2                          terrain        NaN  4 cylinders    gas   14598.0   \n",
              "3                     outlander se  excellent  4 cylinders    gas  107071.0   \n",
              "4                        silverado        NaN          NaN    gas  213013.0   \n",
              "...                            ...        ...          ...    ...       ...   \n",
              "49995  4 series 440i gran coupe 4d       good          NaN    gas   34455.0   \n",
              "49996               town & country        NaN          NaN    gas  144909.0   \n",
              "49997                         qx80        NaN          NaN    gas   23193.0   \n",
              "49998          econoline cargo van       good  8 cylinders  other  118198.0   \n",
              "49999        silverado 1500 lt 4x4  excellent  8 cylinders    gas   94952.0   \n",
              "\n",
              "      title_status transmission                VIN drive       size  \\\n",
              "0            clean    automatic  1FADP3K20DL139407   fwd        NaN   \n",
              "1            clean    automatic                NaN   4wd        NaN   \n",
              "2            clean    automatic                NaN   4wd   mid-size   \n",
              "3            clean    automatic  JA4AZ3A3XGZ016260   4wd  full-size   \n",
              "4            clean          NaN  3GCPCREC0FG351282   rwd        NaN   \n",
              "...            ...          ...                ...   ...        ...   \n",
              "49995        clean        other  WBA4E3C55HG186971   rwd        NaN   \n",
              "49996        clean    automatic                NaN   NaN        NaN   \n",
              "49997        clean    automatic  JN8AZ2NF9K9683810   NaN        NaN   \n",
              "49998        clean    automatic  1FTNS2EW2DDB26075   rwd        NaN   \n",
              "49999        clean    automatic  3GCPKSE72DG214872   4wd  full-size   \n",
              "\n",
              "            type paint_color  \\\n",
              "0      hatchback       white   \n",
              "1            SUV         NaN   \n",
              "2            SUV       brown   \n",
              "3            SUV      silver   \n",
              "4         pickup       black   \n",
              "...          ...         ...   \n",
              "49995      coupe        blue   \n",
              "49996        NaN         NaN   \n",
              "49997        NaN       white   \n",
              "49998        van      silver   \n",
              "49999      truck       black   \n",
              "\n",
              "                                               image_url  \\\n",
              "0      https://images.craigslist.org/00R0R_hcVfzCCqmN...   \n",
              "1      https://images.craigslist.org/00202_btbztUwCbQ...   \n",
              "2      https://images.craigslist.org/01010_lExB4IQYsR...   \n",
              "3      https://images.craigslist.org/01313_gvBriFOQwC...   \n",
              "4      https://images.craigslist.org/00R0R_5backjRURS...   \n",
              "...                                                  ...   \n",
              "49995  https://images.craigslist.org/00G0G_2CDb9LdMkM...   \n",
              "49996  https://images.craigslist.org/00v0v_jw0ikGAyNn...   \n",
              "49997  https://images.craigslist.org/00E0E_4m2Lqi60hQ...   \n",
              "49998  https://images.craigslist.org/00g0g_aPschTIyMK...   \n",
              "49999  https://images.craigslist.org/00P0P_1FkYqXrp9r...   \n",
              "\n",
              "                                             description  county state  \\\n",
              "0      1 OWNER! Automatic Transmission  2.0L 4 Cylind...     NaN    nm   \n",
              "1      Mileage: 91,351 Body: SUV Drivetrain: 4X4 Exte...     NaN    fl   \n",
              "2      Most common questions about this vehicle:  Wan...     NaN    oh   \n",
              "3      🔥2016 MITSUBISHI OUTLANDER SE 🔥CLEAN TITLE 🔥$1...     NaN    nj   \n",
              "4      2015 Chevrolet Chevy Silverado 1500 LT Crew Ca...     NaN    fl   \n",
              "...                                                  ...     ...   ...   \n",
              "49995  Carvana is the safer way to buy a car During t...     NaN    nj   \n",
              "49996  WE HAVE OVER 350 VEHICLES IN STOCK!   View Our...     NaN    mi   \n",
              "49997  Jaguar Land Rover of San Juan address:    601 ...     NaN    tx   \n",
              "49998  Why Buy From Twin Work Vans?Twin Work Vans is ...     NaN    ny   \n",
              "49999  Selling this 2013 Chevrolet Silverado LT 4x4 w...     NaN    il   \n",
              "\n",
              "             lat        long              posting_date  \n",
              "0      35.650400 -106.000200  2021-04-27T11:52:53-0600  \n",
              "1      27.588500  -80.392300  2021-04-29T11:00:14-0400  \n",
              "2      41.456783  -81.883689  2021-04-16T12:22:01-0400  \n",
              "3      40.728887  -74.150686  2021-04-29T11:52:17-0400  \n",
              "4      27.999033  -82.459702  2021-05-03T20:40:33-0400  \n",
              "...          ...         ...                       ...  \n",
              "49995  40.220000  -74.760000  2021-04-26T11:30:52-0400  \n",
              "49996  43.182400  -84.112200  2021-04-24T12:49:30-0400  \n",
              "49997  26.193466  -98.145378  2021-04-15T08:01:24-0500  \n",
              "49998  43.220454  -77.819038  2021-04-16T09:40:31-0400  \n",
              "49999  41.829639  -90.202114  2021-04-23T17:56:39-0500  \n",
              "\n",
              "[50000 rows x 27 columns]"
            ]
          },
          "execution_count": 63,
          "metadata": {},
          "output_type": "execute_result"
        }
      ],
      "source": [
        "# vehicle_df = pd.read_csv(data_dir+\"vehicles_small.csv\")\n",
        "# vehicle_df\n",
        "vehicle_df = pd.read_csv(\"vehicles_small.csv\")\n",
        "vehicle_df"
      ]
    },
    {
      "cell_type": "code",
      "execution_count": 64,
      "metadata": {
        "id": "RMFBcsqtytJN"
      },
      "outputs": [],
      "source": [
        "pd.set_option(\"display.max.columns\", None)"
      ]
    },
    {
      "cell_type": "code",
      "execution_count": 65,
      "metadata": {
        "colab": {
          "base_uri": "https://localhost:8080/"
        },
        "id": "0e9uZI4nh6PH",
        "outputId": "fa4c504b-6b60-499a-d2af-c36312a7d814"
      },
      "outputs": [
        {
          "data": {
            "text/plain": [
              "pandas.core.frame.DataFrame"
            ]
          },
          "execution_count": 65,
          "metadata": {},
          "output_type": "execute_result"
        }
      ],
      "source": [
        "type(vehicle_df)"
      ]
    },
    {
      "cell_type": "markdown",
      "metadata": {
        "id": "buqlTRPdP7Wl"
      },
      "source": [
        "**EXERCISE 2:** There are many features in this data set, but we are only interested in the following: price, year, manufacturer, condition, odometer, type, and paint color. Since this is a very large data set, removing the columns containing the other features will speed up this process. Do this in the cell below. Once you are done the Dataframe should only have 7 columns. Print it out to prove this."
      ]
    },
    {
      "cell_type": "code",
      "execution_count": 66,
      "metadata": {
        "colab": {
          "base_uri": "https://localhost:8080/"
        },
        "id": "XElsNdlIVgFN",
        "outputId": "c4d3366b-7dee-4b4f-8ce5-9fcbefa38e51"
      },
      "outputs": [
        {
          "data": {
            "text/plain": [
              "<bound method DataFrame.info of        Unnamed: 0          id  \\\n",
              "0          262922  7313427491   \n",
              "1          119600  7314311823   \n",
              "2          293948  7307759238   \n",
              "3          254392  7314342138   \n",
              "4          116669  7316531721   \n",
              "...           ...         ...   \n",
              "49995      250572  7312817736   \n",
              "49996      204486  7311921134   \n",
              "49997      366950  7307119394   \n",
              "49998      271655  7307657039   \n",
              "49999      143996  7311629600   \n",
              "\n",
              "                                                     url              region  \\\n",
              "0      https://santafe.craigslist.org/ctd/d/santa-fe-...     santa fe / taos   \n",
              "1      https://treasure.craigslist.org/ctd/d/vero-bea...      treasure coast   \n",
              "2      https://cleveland.craigslist.org/ctd/d/rocky-r...           cleveland   \n",
              "3      https://newjersey.craigslist.org/ctd/d/newark-...        north jersey   \n",
              "4      https://tampa.craigslist.org/hil/ctd/d/tampa-2...      tampa bay area   \n",
              "...                                                  ...                 ...   \n",
              "49995  https://cnj.craigslist.org/ctd/d/trenton-2017-...          central NJ   \n",
              "49996  https://kalamazoo.craigslist.org/ctd/d/chesani...           kalamazoo   \n",
              "49997  https://brownsville.craigslist.org/ctd/d/alamo...         brownsville   \n",
              "49998  https://ithaca.craigslist.org/ctd/d/spencerpor...              ithaca   \n",
              "49999  https://quadcities.craigslist.org/ctd/d/clinto...  quad cities, IA/IL   \n",
              "\n",
              "                               region_url  price    year manufacturer  \\\n",
              "0          https://santafe.craigslist.org   9950  2013.0         ford   \n",
              "1         https://treasure.craigslist.org  39500  2016.0          gmc   \n",
              "2        https://cleveland.craigslist.org  24329  2018.0          gmc   \n",
              "3        https://newjersey.craigslist.org  12300  2016.0   mitsubishi   \n",
              "4            https://tampa.craigslist.org  19995  2015.0    chevrolet   \n",
              "...                                   ...    ...     ...          ...   \n",
              "49995          https://cnj.craigslist.org  31590  2017.0          bmw   \n",
              "49996    https://kalamazoo.craigslist.org   5495  2010.0     chrysler   \n",
              "49997  https://brownsville.craigslist.org  51495  2019.0     infiniti   \n",
              "49998       https://ithaca.craigslist.org  14995  2013.0         ford   \n",
              "49999   https://quadcities.craigslist.org  20950  2013.0    chevrolet   \n",
              "\n",
              "                             model  condition    cylinders   fuel  odometer  \\\n",
              "0                            focus   like new  4 cylinders    gas   95000.0   \n",
              "1                  yukon xl denali  excellent  8 cylinders    gas   91351.0   \n",
              "2                          terrain        NaN  4 cylinders    gas   14598.0   \n",
              "3                     outlander se  excellent  4 cylinders    gas  107071.0   \n",
              "4                        silverado        NaN          NaN    gas  213013.0   \n",
              "...                            ...        ...          ...    ...       ...   \n",
              "49995  4 series 440i gran coupe 4d       good          NaN    gas   34455.0   \n",
              "49996               town & country        NaN          NaN    gas  144909.0   \n",
              "49997                         qx80        NaN          NaN    gas   23193.0   \n",
              "49998          econoline cargo van       good  8 cylinders  other  118198.0   \n",
              "49999        silverado 1500 lt 4x4  excellent  8 cylinders    gas   94952.0   \n",
              "\n",
              "      title_status transmission                VIN drive       size  \\\n",
              "0            clean    automatic  1FADP3K20DL139407   fwd        NaN   \n",
              "1            clean    automatic                NaN   4wd        NaN   \n",
              "2            clean    automatic                NaN   4wd   mid-size   \n",
              "3            clean    automatic  JA4AZ3A3XGZ016260   4wd  full-size   \n",
              "4            clean          NaN  3GCPCREC0FG351282   rwd        NaN   \n",
              "...            ...          ...                ...   ...        ...   \n",
              "49995        clean        other  WBA4E3C55HG186971   rwd        NaN   \n",
              "49996        clean    automatic                NaN   NaN        NaN   \n",
              "49997        clean    automatic  JN8AZ2NF9K9683810   NaN        NaN   \n",
              "49998        clean    automatic  1FTNS2EW2DDB26075   rwd        NaN   \n",
              "49999        clean    automatic  3GCPKSE72DG214872   4wd  full-size   \n",
              "\n",
              "            type paint_color  \\\n",
              "0      hatchback       white   \n",
              "1            SUV         NaN   \n",
              "2            SUV       brown   \n",
              "3            SUV      silver   \n",
              "4         pickup       black   \n",
              "...          ...         ...   \n",
              "49995      coupe        blue   \n",
              "49996        NaN         NaN   \n",
              "49997        NaN       white   \n",
              "49998        van      silver   \n",
              "49999      truck       black   \n",
              "\n",
              "                                               image_url  \\\n",
              "0      https://images.craigslist.org/00R0R_hcVfzCCqmN...   \n",
              "1      https://images.craigslist.org/00202_btbztUwCbQ...   \n",
              "2      https://images.craigslist.org/01010_lExB4IQYsR...   \n",
              "3      https://images.craigslist.org/01313_gvBriFOQwC...   \n",
              "4      https://images.craigslist.org/00R0R_5backjRURS...   \n",
              "...                                                  ...   \n",
              "49995  https://images.craigslist.org/00G0G_2CDb9LdMkM...   \n",
              "49996  https://images.craigslist.org/00v0v_jw0ikGAyNn...   \n",
              "49997  https://images.craigslist.org/00E0E_4m2Lqi60hQ...   \n",
              "49998  https://images.craigslist.org/00g0g_aPschTIyMK...   \n",
              "49999  https://images.craigslist.org/00P0P_1FkYqXrp9r...   \n",
              "\n",
              "                                             description  county state  \\\n",
              "0      1 OWNER! Automatic Transmission  2.0L 4 Cylind...     NaN    nm   \n",
              "1      Mileage: 91,351 Body: SUV Drivetrain: 4X4 Exte...     NaN    fl   \n",
              "2      Most common questions about this vehicle:  Wan...     NaN    oh   \n",
              "3      🔥2016 MITSUBISHI OUTLANDER SE 🔥CLEAN TITLE 🔥$1...     NaN    nj   \n",
              "4      2015 Chevrolet Chevy Silverado 1500 LT Crew Ca...     NaN    fl   \n",
              "...                                                  ...     ...   ...   \n",
              "49995  Carvana is the safer way to buy a car During t...     NaN    nj   \n",
              "49996  WE HAVE OVER 350 VEHICLES IN STOCK!   View Our...     NaN    mi   \n",
              "49997  Jaguar Land Rover of San Juan address:    601 ...     NaN    tx   \n",
              "49998  Why Buy From Twin Work Vans?Twin Work Vans is ...     NaN    ny   \n",
              "49999  Selling this 2013 Chevrolet Silverado LT 4x4 w...     NaN    il   \n",
              "\n",
              "             lat        long              posting_date  \n",
              "0      35.650400 -106.000200  2021-04-27T11:52:53-0600  \n",
              "1      27.588500  -80.392300  2021-04-29T11:00:14-0400  \n",
              "2      41.456783  -81.883689  2021-04-16T12:22:01-0400  \n",
              "3      40.728887  -74.150686  2021-04-29T11:52:17-0400  \n",
              "4      27.999033  -82.459702  2021-05-03T20:40:33-0400  \n",
              "...          ...         ...                       ...  \n",
              "49995  40.220000  -74.760000  2021-04-26T11:30:52-0400  \n",
              "49996  43.182400  -84.112200  2021-04-24T12:49:30-0400  \n",
              "49997  26.193466  -98.145378  2021-04-15T08:01:24-0500  \n",
              "49998  43.220454  -77.819038  2021-04-16T09:40:31-0400  \n",
              "49999  41.829639  -90.202114  2021-04-23T17:56:39-0500  \n",
              "\n",
              "[50000 rows x 27 columns]>"
            ]
          },
          "execution_count": 66,
          "metadata": {},
          "output_type": "execute_result"
        }
      ],
      "source": [
        "vehicle_df.info"
      ]
    },
    {
      "cell_type": "code",
      "execution_count": 67,
      "metadata": {
        "colab": {
          "base_uri": "https://localhost:8080/"
        },
        "id": "dQBMp2CHY_Sb",
        "outputId": "96579156-f608-4710-dbd1-951ef1024559"
      },
      "outputs": [
        {
          "name": "stdout",
          "output_type": "stream",
          "text": [
            "<class 'pandas.core.frame.DataFrame'>\n",
            "RangeIndex: 50000 entries, 0 to 49999\n",
            "Data columns (total 27 columns):\n",
            " #   Column        Non-Null Count  Dtype  \n",
            "---  ------        --------------  -----  \n",
            " 0   Unnamed: 0    50000 non-null  int64  \n",
            " 1   id            50000 non-null  int64  \n",
            " 2   url           50000 non-null  object \n",
            " 3   region        50000 non-null  object \n",
            " 4   region_url    50000 non-null  object \n",
            " 5   price         50000 non-null  int64  \n",
            " 6   year          49878 non-null  float64\n",
            " 7   manufacturer  47880 non-null  object \n",
            " 8   model         49404 non-null  object \n",
            " 9   condition     29513 non-null  object \n",
            " 10  cylinders     28996 non-null  object \n",
            " 11  fuel          49649 non-null  object \n",
            " 12  odometer      49517 non-null  float64\n",
            " 13  title_status  49085 non-null  object \n",
            " 14  transmission  49701 non-null  object \n",
            " 15  VIN           31224 non-null  object \n",
            " 16  drive         34542 non-null  object \n",
            " 17  size          13975 non-null  object \n",
            " 18  type          39158 non-null  object \n",
            " 19  paint_color   34902 non-null  object \n",
            " 20  image_url     49991 non-null  object \n",
            " 21  description   49990 non-null  object \n",
            " 22  county        0 non-null      float64\n",
            " 23  state         50000 non-null  object \n",
            " 24  lat           49188 non-null  float64\n",
            " 25  long          49188 non-null  float64\n",
            " 26  posting_date  49991 non-null  object \n",
            "dtypes: float64(5), int64(3), object(19)\n",
            "memory usage: 10.3+ MB\n"
          ]
        }
      ],
      "source": [
        "vehicle_df.info()\n"
      ]
    },
    {
      "cell_type": "code",
      "execution_count": 68,
      "metadata": {
        "colab": {
          "base_uri": "https://localhost:8080/",
          "height": 300
        },
        "id": "bAeLtTXMZHhX",
        "outputId": "ca9dbebb-fc0f-46d6-f817-20309ee7e4b4"
      },
      "outputs": [
        {
          "data": {
            "text/html": [
              "<div>\n",
              "<style scoped>\n",
              "    .dataframe tbody tr th:only-of-type {\n",
              "        vertical-align: middle;\n",
              "    }\n",
              "\n",
              "    .dataframe tbody tr th {\n",
              "        vertical-align: top;\n",
              "    }\n",
              "\n",
              "    .dataframe thead th {\n",
              "        text-align: right;\n",
              "    }\n",
              "</style>\n",
              "<table border=\"1\" class=\"dataframe\">\n",
              "  <thead>\n",
              "    <tr style=\"text-align: right;\">\n",
              "      <th></th>\n",
              "      <th>Unnamed: 0</th>\n",
              "      <th>id</th>\n",
              "      <th>price</th>\n",
              "      <th>year</th>\n",
              "      <th>odometer</th>\n",
              "      <th>county</th>\n",
              "      <th>lat</th>\n",
              "      <th>long</th>\n",
              "    </tr>\n",
              "  </thead>\n",
              "  <tbody>\n",
              "    <tr>\n",
              "      <th>count</th>\n",
              "      <td>50000.000000</td>\n",
              "      <td>5.000000e+04</td>\n",
              "      <td>5.000000e+04</td>\n",
              "      <td>49878.000000</td>\n",
              "      <td>4.951700e+04</td>\n",
              "      <td>0.0</td>\n",
              "      <td>49188.000000</td>\n",
              "      <td>49188.000000</td>\n",
              "    </tr>\n",
              "    <tr>\n",
              "      <th>mean</th>\n",
              "      <td>213085.670420</td>\n",
              "      <td>7.311467e+09</td>\n",
              "      <td>1.030437e+05</td>\n",
              "      <td>2011.242772</td>\n",
              "      <td>9.733696e+04</td>\n",
              "      <td>NaN</td>\n",
              "      <td>38.494244</td>\n",
              "      <td>-94.704712</td>\n",
              "    </tr>\n",
              "    <tr>\n",
              "      <th>std</th>\n",
              "      <td>123484.298114</td>\n",
              "      <td>4.500267e+06</td>\n",
              "      <td>1.435782e+07</td>\n",
              "      <td>9.405396</td>\n",
              "      <td>2.009795e+05</td>\n",
              "      <td>NaN</td>\n",
              "      <td>5.797133</td>\n",
              "      <td>18.284048</td>\n",
              "    </tr>\n",
              "    <tr>\n",
              "      <th>min</th>\n",
              "      <td>2.000000</td>\n",
              "      <td>7.208550e+09</td>\n",
              "      <td>0.000000e+00</td>\n",
              "      <td>1900.000000</td>\n",
              "      <td>0.000000e+00</td>\n",
              "      <td>NaN</td>\n",
              "      <td>-56.527029</td>\n",
              "      <td>-159.486600</td>\n",
              "    </tr>\n",
              "    <tr>\n",
              "      <th>25%</th>\n",
              "      <td>106097.750000</td>\n",
              "      <td>7.308095e+09</td>\n",
              "      <td>5.950000e+03</td>\n",
              "      <td>2008.000000</td>\n",
              "      <td>3.720000e+04</td>\n",
              "      <td>NaN</td>\n",
              "      <td>34.708815</td>\n",
              "      <td>-111.954863</td>\n",
              "    </tr>\n",
              "    <tr>\n",
              "      <th>50%</th>\n",
              "      <td>213482.500000</td>\n",
              "      <td>7.312580e+09</td>\n",
              "      <td>1.398800e+04</td>\n",
              "      <td>2013.000000</td>\n",
              "      <td>8.550000e+04</td>\n",
              "      <td>NaN</td>\n",
              "      <td>39.150100</td>\n",
              "      <td>-88.241072</td>\n",
              "    </tr>\n",
              "    <tr>\n",
              "      <th>75%</th>\n",
              "      <td>319947.250000</td>\n",
              "      <td>7.315245e+09</td>\n",
              "      <td>2.633150e+04</td>\n",
              "      <td>2017.000000</td>\n",
              "      <td>1.340000e+05</td>\n",
              "      <td>NaN</td>\n",
              "      <td>42.378530</td>\n",
              "      <td>-80.818725</td>\n",
              "    </tr>\n",
              "    <tr>\n",
              "      <th>max</th>\n",
              "      <td>426874.000000</td>\n",
              "      <td>7.317099e+09</td>\n",
              "      <td>3.009549e+09</td>\n",
              "      <td>2022.000000</td>\n",
              "      <td>1.000000e+07</td>\n",
              "      <td>NaN</td>\n",
              "      <td>82.390818</td>\n",
              "      <td>94.163200</td>\n",
              "    </tr>\n",
              "  </tbody>\n",
              "</table>\n",
              "</div>"
            ],
            "text/plain": [
              "          Unnamed: 0            id         price          year      odometer  \\\n",
              "count   50000.000000  5.000000e+04  5.000000e+04  49878.000000  4.951700e+04   \n",
              "mean   213085.670420  7.311467e+09  1.030437e+05   2011.242772  9.733696e+04   \n",
              "std    123484.298114  4.500267e+06  1.435782e+07      9.405396  2.009795e+05   \n",
              "min         2.000000  7.208550e+09  0.000000e+00   1900.000000  0.000000e+00   \n",
              "25%    106097.750000  7.308095e+09  5.950000e+03   2008.000000  3.720000e+04   \n",
              "50%    213482.500000  7.312580e+09  1.398800e+04   2013.000000  8.550000e+04   \n",
              "75%    319947.250000  7.315245e+09  2.633150e+04   2017.000000  1.340000e+05   \n",
              "max    426874.000000  7.317099e+09  3.009549e+09   2022.000000  1.000000e+07   \n",
              "\n",
              "       county           lat          long  \n",
              "count     0.0  49188.000000  49188.000000  \n",
              "mean      NaN     38.494244    -94.704712  \n",
              "std       NaN      5.797133     18.284048  \n",
              "min       NaN    -56.527029   -159.486600  \n",
              "25%       NaN     34.708815   -111.954863  \n",
              "50%       NaN     39.150100    -88.241072  \n",
              "75%       NaN     42.378530    -80.818725  \n",
              "max       NaN     82.390818     94.163200  "
            ]
          },
          "execution_count": 68,
          "metadata": {},
          "output_type": "execute_result"
        }
      ],
      "source": [
        "vehicle_df.describe()"
      ]
    },
    {
      "cell_type": "code",
      "execution_count": 69,
      "metadata": {
        "id": "5xwjKsUfWIIp"
      },
      "outputs": [],
      "source": [
        "# vehicle_df.description"
      ]
    },
    {
      "cell_type": "code",
      "execution_count": 70,
      "metadata": {
        "colab": {
          "base_uri": "https://localhost:8080/"
        },
        "id": "hyxXmh05WXVK",
        "outputId": "0f1f29d0-2290-485e-9dec-e997ab5b9f20"
      },
      "outputs": [
        {
          "data": {
            "text/plain": [
              "<bound method NDFrame.head of        Unnamed: 0          id  \\\n",
              "0          262922  7313427491   \n",
              "1          119600  7314311823   \n",
              "2          293948  7307759238   \n",
              "3          254392  7314342138   \n",
              "4          116669  7316531721   \n",
              "...           ...         ...   \n",
              "49995      250572  7312817736   \n",
              "49996      204486  7311921134   \n",
              "49997      366950  7307119394   \n",
              "49998      271655  7307657039   \n",
              "49999      143996  7311629600   \n",
              "\n",
              "                                                     url              region  \\\n",
              "0      https://santafe.craigslist.org/ctd/d/santa-fe-...     santa fe / taos   \n",
              "1      https://treasure.craigslist.org/ctd/d/vero-bea...      treasure coast   \n",
              "2      https://cleveland.craigslist.org/ctd/d/rocky-r...           cleveland   \n",
              "3      https://newjersey.craigslist.org/ctd/d/newark-...        north jersey   \n",
              "4      https://tampa.craigslist.org/hil/ctd/d/tampa-2...      tampa bay area   \n",
              "...                                                  ...                 ...   \n",
              "49995  https://cnj.craigslist.org/ctd/d/trenton-2017-...          central NJ   \n",
              "49996  https://kalamazoo.craigslist.org/ctd/d/chesani...           kalamazoo   \n",
              "49997  https://brownsville.craigslist.org/ctd/d/alamo...         brownsville   \n",
              "49998  https://ithaca.craigslist.org/ctd/d/spencerpor...              ithaca   \n",
              "49999  https://quadcities.craigslist.org/ctd/d/clinto...  quad cities, IA/IL   \n",
              "\n",
              "                               region_url  price    year manufacturer  \\\n",
              "0          https://santafe.craigslist.org   9950  2013.0         ford   \n",
              "1         https://treasure.craigslist.org  39500  2016.0          gmc   \n",
              "2        https://cleveland.craigslist.org  24329  2018.0          gmc   \n",
              "3        https://newjersey.craigslist.org  12300  2016.0   mitsubishi   \n",
              "4            https://tampa.craigslist.org  19995  2015.0    chevrolet   \n",
              "...                                   ...    ...     ...          ...   \n",
              "49995          https://cnj.craigslist.org  31590  2017.0          bmw   \n",
              "49996    https://kalamazoo.craigslist.org   5495  2010.0     chrysler   \n",
              "49997  https://brownsville.craigslist.org  51495  2019.0     infiniti   \n",
              "49998       https://ithaca.craigslist.org  14995  2013.0         ford   \n",
              "49999   https://quadcities.craigslist.org  20950  2013.0    chevrolet   \n",
              "\n",
              "                             model  condition    cylinders   fuel  odometer  \\\n",
              "0                            focus   like new  4 cylinders    gas   95000.0   \n",
              "1                  yukon xl denali  excellent  8 cylinders    gas   91351.0   \n",
              "2                          terrain        NaN  4 cylinders    gas   14598.0   \n",
              "3                     outlander se  excellent  4 cylinders    gas  107071.0   \n",
              "4                        silverado        NaN          NaN    gas  213013.0   \n",
              "...                            ...        ...          ...    ...       ...   \n",
              "49995  4 series 440i gran coupe 4d       good          NaN    gas   34455.0   \n",
              "49996               town & country        NaN          NaN    gas  144909.0   \n",
              "49997                         qx80        NaN          NaN    gas   23193.0   \n",
              "49998          econoline cargo van       good  8 cylinders  other  118198.0   \n",
              "49999        silverado 1500 lt 4x4  excellent  8 cylinders    gas   94952.0   \n",
              "\n",
              "      title_status transmission                VIN drive       size  \\\n",
              "0            clean    automatic  1FADP3K20DL139407   fwd        NaN   \n",
              "1            clean    automatic                NaN   4wd        NaN   \n",
              "2            clean    automatic                NaN   4wd   mid-size   \n",
              "3            clean    automatic  JA4AZ3A3XGZ016260   4wd  full-size   \n",
              "4            clean          NaN  3GCPCREC0FG351282   rwd        NaN   \n",
              "...            ...          ...                ...   ...        ...   \n",
              "49995        clean        other  WBA4E3C55HG186971   rwd        NaN   \n",
              "49996        clean    automatic                NaN   NaN        NaN   \n",
              "49997        clean    automatic  JN8AZ2NF9K9683810   NaN        NaN   \n",
              "49998        clean    automatic  1FTNS2EW2DDB26075   rwd        NaN   \n",
              "49999        clean    automatic  3GCPKSE72DG214872   4wd  full-size   \n",
              "\n",
              "            type paint_color  \\\n",
              "0      hatchback       white   \n",
              "1            SUV         NaN   \n",
              "2            SUV       brown   \n",
              "3            SUV      silver   \n",
              "4         pickup       black   \n",
              "...          ...         ...   \n",
              "49995      coupe        blue   \n",
              "49996        NaN         NaN   \n",
              "49997        NaN       white   \n",
              "49998        van      silver   \n",
              "49999      truck       black   \n",
              "\n",
              "                                               image_url  \\\n",
              "0      https://images.craigslist.org/00R0R_hcVfzCCqmN...   \n",
              "1      https://images.craigslist.org/00202_btbztUwCbQ...   \n",
              "2      https://images.craigslist.org/01010_lExB4IQYsR...   \n",
              "3      https://images.craigslist.org/01313_gvBriFOQwC...   \n",
              "4      https://images.craigslist.org/00R0R_5backjRURS...   \n",
              "...                                                  ...   \n",
              "49995  https://images.craigslist.org/00G0G_2CDb9LdMkM...   \n",
              "49996  https://images.craigslist.org/00v0v_jw0ikGAyNn...   \n",
              "49997  https://images.craigslist.org/00E0E_4m2Lqi60hQ...   \n",
              "49998  https://images.craigslist.org/00g0g_aPschTIyMK...   \n",
              "49999  https://images.craigslist.org/00P0P_1FkYqXrp9r...   \n",
              "\n",
              "                                             description  county state  \\\n",
              "0      1 OWNER! Automatic Transmission  2.0L 4 Cylind...     NaN    nm   \n",
              "1      Mileage: 91,351 Body: SUV Drivetrain: 4X4 Exte...     NaN    fl   \n",
              "2      Most common questions about this vehicle:  Wan...     NaN    oh   \n",
              "3      🔥2016 MITSUBISHI OUTLANDER SE 🔥CLEAN TITLE 🔥$1...     NaN    nj   \n",
              "4      2015 Chevrolet Chevy Silverado 1500 LT Crew Ca...     NaN    fl   \n",
              "...                                                  ...     ...   ...   \n",
              "49995  Carvana is the safer way to buy a car During t...     NaN    nj   \n",
              "49996  WE HAVE OVER 350 VEHICLES IN STOCK!   View Our...     NaN    mi   \n",
              "49997  Jaguar Land Rover of San Juan address:    601 ...     NaN    tx   \n",
              "49998  Why Buy From Twin Work Vans?Twin Work Vans is ...     NaN    ny   \n",
              "49999  Selling this 2013 Chevrolet Silverado LT 4x4 w...     NaN    il   \n",
              "\n",
              "             lat        long              posting_date  \n",
              "0      35.650400 -106.000200  2021-04-27T11:52:53-0600  \n",
              "1      27.588500  -80.392300  2021-04-29T11:00:14-0400  \n",
              "2      41.456783  -81.883689  2021-04-16T12:22:01-0400  \n",
              "3      40.728887  -74.150686  2021-04-29T11:52:17-0400  \n",
              "4      27.999033  -82.459702  2021-05-03T20:40:33-0400  \n",
              "...          ...         ...                       ...  \n",
              "49995  40.220000  -74.760000  2021-04-26T11:30:52-0400  \n",
              "49996  43.182400  -84.112200  2021-04-24T12:49:30-0400  \n",
              "49997  26.193466  -98.145378  2021-04-15T08:01:24-0500  \n",
              "49998  43.220454  -77.819038  2021-04-16T09:40:31-0400  \n",
              "49999  41.829639  -90.202114  2021-04-23T17:56:39-0500  \n",
              "\n",
              "[50000 rows x 27 columns]>"
            ]
          },
          "execution_count": 70,
          "metadata": {},
          "output_type": "execute_result"
        }
      ],
      "source": [
        "vehicle_df.head"
      ]
    },
    {
      "cell_type": "code",
      "execution_count": 71,
      "metadata": {
        "id": "0nA6WRlca1ah"
      },
      "outputs": [],
      "source": [
        "# vehicle_df.fillna(value= \"False\",inplace=True)"
      ]
    },
    {
      "cell_type": "code",
      "execution_count": 72,
      "metadata": {
        "colab": {
          "base_uri": "https://localhost:8080/",
          "height": 461
        },
        "id": "OFQAYm7YbPxt",
        "outputId": "b603b50f-a937-4f28-d5a3-093da978722e"
      },
      "outputs": [
        {
          "data": {
            "text/html": [
              "<div>\n",
              "<style scoped>\n",
              "    .dataframe tbody tr th:only-of-type {\n",
              "        vertical-align: middle;\n",
              "    }\n",
              "\n",
              "    .dataframe tbody tr th {\n",
              "        vertical-align: top;\n",
              "    }\n",
              "\n",
              "    .dataframe thead th {\n",
              "        text-align: right;\n",
              "    }\n",
              "</style>\n",
              "<table border=\"1\" class=\"dataframe\">\n",
              "  <thead>\n",
              "    <tr style=\"text-align: right;\">\n",
              "      <th></th>\n",
              "      <th>Unnamed: 0</th>\n",
              "      <th>id</th>\n",
              "      <th>url</th>\n",
              "      <th>region</th>\n",
              "      <th>region_url</th>\n",
              "      <th>price</th>\n",
              "      <th>year</th>\n",
              "      <th>manufacturer</th>\n",
              "      <th>model</th>\n",
              "      <th>condition</th>\n",
              "      <th>cylinders</th>\n",
              "      <th>fuel</th>\n",
              "      <th>odometer</th>\n",
              "      <th>title_status</th>\n",
              "      <th>transmission</th>\n",
              "      <th>VIN</th>\n",
              "      <th>drive</th>\n",
              "      <th>size</th>\n",
              "      <th>type</th>\n",
              "      <th>paint_color</th>\n",
              "      <th>image_url</th>\n",
              "      <th>description</th>\n",
              "      <th>county</th>\n",
              "      <th>state</th>\n",
              "      <th>lat</th>\n",
              "      <th>long</th>\n",
              "      <th>posting_date</th>\n",
              "    </tr>\n",
              "  </thead>\n",
              "  <tbody>\n",
              "    <tr>\n",
              "      <th>0</th>\n",
              "      <td>False</td>\n",
              "      <td>False</td>\n",
              "      <td>False</td>\n",
              "      <td>False</td>\n",
              "      <td>False</td>\n",
              "      <td>False</td>\n",
              "      <td>False</td>\n",
              "      <td>False</td>\n",
              "      <td>False</td>\n",
              "      <td>False</td>\n",
              "      <td>False</td>\n",
              "      <td>False</td>\n",
              "      <td>False</td>\n",
              "      <td>False</td>\n",
              "      <td>False</td>\n",
              "      <td>False</td>\n",
              "      <td>False</td>\n",
              "      <td>True</td>\n",
              "      <td>False</td>\n",
              "      <td>False</td>\n",
              "      <td>False</td>\n",
              "      <td>False</td>\n",
              "      <td>True</td>\n",
              "      <td>False</td>\n",
              "      <td>False</td>\n",
              "      <td>False</td>\n",
              "      <td>False</td>\n",
              "    </tr>\n",
              "    <tr>\n",
              "      <th>1</th>\n",
              "      <td>False</td>\n",
              "      <td>False</td>\n",
              "      <td>False</td>\n",
              "      <td>False</td>\n",
              "      <td>False</td>\n",
              "      <td>False</td>\n",
              "      <td>False</td>\n",
              "      <td>False</td>\n",
              "      <td>False</td>\n",
              "      <td>False</td>\n",
              "      <td>False</td>\n",
              "      <td>False</td>\n",
              "      <td>False</td>\n",
              "      <td>False</td>\n",
              "      <td>False</td>\n",
              "      <td>True</td>\n",
              "      <td>False</td>\n",
              "      <td>True</td>\n",
              "      <td>False</td>\n",
              "      <td>True</td>\n",
              "      <td>False</td>\n",
              "      <td>False</td>\n",
              "      <td>True</td>\n",
              "      <td>False</td>\n",
              "      <td>False</td>\n",
              "      <td>False</td>\n",
              "      <td>False</td>\n",
              "    </tr>\n",
              "    <tr>\n",
              "      <th>2</th>\n",
              "      <td>False</td>\n",
              "      <td>False</td>\n",
              "      <td>False</td>\n",
              "      <td>False</td>\n",
              "      <td>False</td>\n",
              "      <td>False</td>\n",
              "      <td>False</td>\n",
              "      <td>False</td>\n",
              "      <td>False</td>\n",
              "      <td>True</td>\n",
              "      <td>False</td>\n",
              "      <td>False</td>\n",
              "      <td>False</td>\n",
              "      <td>False</td>\n",
              "      <td>False</td>\n",
              "      <td>True</td>\n",
              "      <td>False</td>\n",
              "      <td>False</td>\n",
              "      <td>False</td>\n",
              "      <td>False</td>\n",
              "      <td>False</td>\n",
              "      <td>False</td>\n",
              "      <td>True</td>\n",
              "      <td>False</td>\n",
              "      <td>False</td>\n",
              "      <td>False</td>\n",
              "      <td>False</td>\n",
              "    </tr>\n",
              "    <tr>\n",
              "      <th>3</th>\n",
              "      <td>False</td>\n",
              "      <td>False</td>\n",
              "      <td>False</td>\n",
              "      <td>False</td>\n",
              "      <td>False</td>\n",
              "      <td>False</td>\n",
              "      <td>False</td>\n",
              "      <td>False</td>\n",
              "      <td>False</td>\n",
              "      <td>False</td>\n",
              "      <td>False</td>\n",
              "      <td>False</td>\n",
              "      <td>False</td>\n",
              "      <td>False</td>\n",
              "      <td>False</td>\n",
              "      <td>False</td>\n",
              "      <td>False</td>\n",
              "      <td>False</td>\n",
              "      <td>False</td>\n",
              "      <td>False</td>\n",
              "      <td>False</td>\n",
              "      <td>False</td>\n",
              "      <td>True</td>\n",
              "      <td>False</td>\n",
              "      <td>False</td>\n",
              "      <td>False</td>\n",
              "      <td>False</td>\n",
              "    </tr>\n",
              "    <tr>\n",
              "      <th>4</th>\n",
              "      <td>False</td>\n",
              "      <td>False</td>\n",
              "      <td>False</td>\n",
              "      <td>False</td>\n",
              "      <td>False</td>\n",
              "      <td>False</td>\n",
              "      <td>False</td>\n",
              "      <td>False</td>\n",
              "      <td>False</td>\n",
              "      <td>True</td>\n",
              "      <td>True</td>\n",
              "      <td>False</td>\n",
              "      <td>False</td>\n",
              "      <td>False</td>\n",
              "      <td>True</td>\n",
              "      <td>False</td>\n",
              "      <td>False</td>\n",
              "      <td>True</td>\n",
              "      <td>False</td>\n",
              "      <td>False</td>\n",
              "      <td>False</td>\n",
              "      <td>False</td>\n",
              "      <td>True</td>\n",
              "      <td>False</td>\n",
              "      <td>False</td>\n",
              "      <td>False</td>\n",
              "      <td>False</td>\n",
              "    </tr>\n",
              "    <tr>\n",
              "      <th>...</th>\n",
              "      <td>...</td>\n",
              "      <td>...</td>\n",
              "      <td>...</td>\n",
              "      <td>...</td>\n",
              "      <td>...</td>\n",
              "      <td>...</td>\n",
              "      <td>...</td>\n",
              "      <td>...</td>\n",
              "      <td>...</td>\n",
              "      <td>...</td>\n",
              "      <td>...</td>\n",
              "      <td>...</td>\n",
              "      <td>...</td>\n",
              "      <td>...</td>\n",
              "      <td>...</td>\n",
              "      <td>...</td>\n",
              "      <td>...</td>\n",
              "      <td>...</td>\n",
              "      <td>...</td>\n",
              "      <td>...</td>\n",
              "      <td>...</td>\n",
              "      <td>...</td>\n",
              "      <td>...</td>\n",
              "      <td>...</td>\n",
              "      <td>...</td>\n",
              "      <td>...</td>\n",
              "      <td>...</td>\n",
              "    </tr>\n",
              "    <tr>\n",
              "      <th>49995</th>\n",
              "      <td>False</td>\n",
              "      <td>False</td>\n",
              "      <td>False</td>\n",
              "      <td>False</td>\n",
              "      <td>False</td>\n",
              "      <td>False</td>\n",
              "      <td>False</td>\n",
              "      <td>False</td>\n",
              "      <td>False</td>\n",
              "      <td>False</td>\n",
              "      <td>True</td>\n",
              "      <td>False</td>\n",
              "      <td>False</td>\n",
              "      <td>False</td>\n",
              "      <td>False</td>\n",
              "      <td>False</td>\n",
              "      <td>False</td>\n",
              "      <td>True</td>\n",
              "      <td>False</td>\n",
              "      <td>False</td>\n",
              "      <td>False</td>\n",
              "      <td>False</td>\n",
              "      <td>True</td>\n",
              "      <td>False</td>\n",
              "      <td>False</td>\n",
              "      <td>False</td>\n",
              "      <td>False</td>\n",
              "    </tr>\n",
              "    <tr>\n",
              "      <th>49996</th>\n",
              "      <td>False</td>\n",
              "      <td>False</td>\n",
              "      <td>False</td>\n",
              "      <td>False</td>\n",
              "      <td>False</td>\n",
              "      <td>False</td>\n",
              "      <td>False</td>\n",
              "      <td>False</td>\n",
              "      <td>False</td>\n",
              "      <td>True</td>\n",
              "      <td>True</td>\n",
              "      <td>False</td>\n",
              "      <td>False</td>\n",
              "      <td>False</td>\n",
              "      <td>False</td>\n",
              "      <td>True</td>\n",
              "      <td>True</td>\n",
              "      <td>True</td>\n",
              "      <td>True</td>\n",
              "      <td>True</td>\n",
              "      <td>False</td>\n",
              "      <td>False</td>\n",
              "      <td>True</td>\n",
              "      <td>False</td>\n",
              "      <td>False</td>\n",
              "      <td>False</td>\n",
              "      <td>False</td>\n",
              "    </tr>\n",
              "    <tr>\n",
              "      <th>49997</th>\n",
              "      <td>False</td>\n",
              "      <td>False</td>\n",
              "      <td>False</td>\n",
              "      <td>False</td>\n",
              "      <td>False</td>\n",
              "      <td>False</td>\n",
              "      <td>False</td>\n",
              "      <td>False</td>\n",
              "      <td>False</td>\n",
              "      <td>True</td>\n",
              "      <td>True</td>\n",
              "      <td>False</td>\n",
              "      <td>False</td>\n",
              "      <td>False</td>\n",
              "      <td>False</td>\n",
              "      <td>False</td>\n",
              "      <td>True</td>\n",
              "      <td>True</td>\n",
              "      <td>True</td>\n",
              "      <td>False</td>\n",
              "      <td>False</td>\n",
              "      <td>False</td>\n",
              "      <td>True</td>\n",
              "      <td>False</td>\n",
              "      <td>False</td>\n",
              "      <td>False</td>\n",
              "      <td>False</td>\n",
              "    </tr>\n",
              "    <tr>\n",
              "      <th>49998</th>\n",
              "      <td>False</td>\n",
              "      <td>False</td>\n",
              "      <td>False</td>\n",
              "      <td>False</td>\n",
              "      <td>False</td>\n",
              "      <td>False</td>\n",
              "      <td>False</td>\n",
              "      <td>False</td>\n",
              "      <td>False</td>\n",
              "      <td>False</td>\n",
              "      <td>False</td>\n",
              "      <td>False</td>\n",
              "      <td>False</td>\n",
              "      <td>False</td>\n",
              "      <td>False</td>\n",
              "      <td>False</td>\n",
              "      <td>False</td>\n",
              "      <td>True</td>\n",
              "      <td>False</td>\n",
              "      <td>False</td>\n",
              "      <td>False</td>\n",
              "      <td>False</td>\n",
              "      <td>True</td>\n",
              "      <td>False</td>\n",
              "      <td>False</td>\n",
              "      <td>False</td>\n",
              "      <td>False</td>\n",
              "    </tr>\n",
              "    <tr>\n",
              "      <th>49999</th>\n",
              "      <td>False</td>\n",
              "      <td>False</td>\n",
              "      <td>False</td>\n",
              "      <td>False</td>\n",
              "      <td>False</td>\n",
              "      <td>False</td>\n",
              "      <td>False</td>\n",
              "      <td>False</td>\n",
              "      <td>False</td>\n",
              "      <td>False</td>\n",
              "      <td>False</td>\n",
              "      <td>False</td>\n",
              "      <td>False</td>\n",
              "      <td>False</td>\n",
              "      <td>False</td>\n",
              "      <td>False</td>\n",
              "      <td>False</td>\n",
              "      <td>False</td>\n",
              "      <td>False</td>\n",
              "      <td>False</td>\n",
              "      <td>False</td>\n",
              "      <td>False</td>\n",
              "      <td>True</td>\n",
              "      <td>False</td>\n",
              "      <td>False</td>\n",
              "      <td>False</td>\n",
              "      <td>False</td>\n",
              "    </tr>\n",
              "  </tbody>\n",
              "</table>\n",
              "<p>50000 rows × 27 columns</p>\n",
              "</div>"
            ],
            "text/plain": [
              "       Unnamed: 0     id    url  region  region_url  price   year  \\\n",
              "0           False  False  False   False       False  False  False   \n",
              "1           False  False  False   False       False  False  False   \n",
              "2           False  False  False   False       False  False  False   \n",
              "3           False  False  False   False       False  False  False   \n",
              "4           False  False  False   False       False  False  False   \n",
              "...           ...    ...    ...     ...         ...    ...    ...   \n",
              "49995       False  False  False   False       False  False  False   \n",
              "49996       False  False  False   False       False  False  False   \n",
              "49997       False  False  False   False       False  False  False   \n",
              "49998       False  False  False   False       False  False  False   \n",
              "49999       False  False  False   False       False  False  False   \n",
              "\n",
              "       manufacturer  model  condition  cylinders   fuel  odometer  \\\n",
              "0             False  False      False      False  False     False   \n",
              "1             False  False      False      False  False     False   \n",
              "2             False  False       True      False  False     False   \n",
              "3             False  False      False      False  False     False   \n",
              "4             False  False       True       True  False     False   \n",
              "...             ...    ...        ...        ...    ...       ...   \n",
              "49995         False  False      False       True  False     False   \n",
              "49996         False  False       True       True  False     False   \n",
              "49997         False  False       True       True  False     False   \n",
              "49998         False  False      False      False  False     False   \n",
              "49999         False  False      False      False  False     False   \n",
              "\n",
              "       title_status  transmission    VIN  drive   size   type  paint_color  \\\n",
              "0             False         False  False  False   True  False        False   \n",
              "1             False         False   True  False   True  False         True   \n",
              "2             False         False   True  False  False  False        False   \n",
              "3             False         False  False  False  False  False        False   \n",
              "4             False          True  False  False   True  False        False   \n",
              "...             ...           ...    ...    ...    ...    ...          ...   \n",
              "49995         False         False  False  False   True  False        False   \n",
              "49996         False         False   True   True   True   True         True   \n",
              "49997         False         False  False   True   True   True        False   \n",
              "49998         False         False  False  False   True  False        False   \n",
              "49999         False         False  False  False  False  False        False   \n",
              "\n",
              "       image_url  description  county  state    lat   long  posting_date  \n",
              "0          False        False    True  False  False  False         False  \n",
              "1          False        False    True  False  False  False         False  \n",
              "2          False        False    True  False  False  False         False  \n",
              "3          False        False    True  False  False  False         False  \n",
              "4          False        False    True  False  False  False         False  \n",
              "...          ...          ...     ...    ...    ...    ...           ...  \n",
              "49995      False        False    True  False  False  False         False  \n",
              "49996      False        False    True  False  False  False         False  \n",
              "49997      False        False    True  False  False  False         False  \n",
              "49998      False        False    True  False  False  False         False  \n",
              "49999      False        False    True  False  False  False         False  \n",
              "\n",
              "[50000 rows x 27 columns]"
            ]
          },
          "execution_count": 72,
          "metadata": {},
          "output_type": "execute_result"
        }
      ],
      "source": [
        "vehicle_df.isnull()"
      ]
    },
    {
      "cell_type": "code",
      "execution_count": 73,
      "metadata": {
        "colab": {
          "base_uri": "https://localhost:8080/"
        },
        "id": "SMF4o9RDccH1",
        "outputId": "6252890e-2e00-4ffe-cbd0-c6c377cf64be"
      },
      "outputs": [
        {
          "data": {
            "text/plain": [
              "True"
            ]
          },
          "execution_count": 73,
          "metadata": {},
          "output_type": "execute_result"
        }
      ],
      "source": [
        "vehicle_df.isna().values.any()"
      ]
    },
    {
      "cell_type": "code",
      "execution_count": 74,
      "metadata": {
        "colab": {
          "base_uri": "https://localhost:8080/"
        },
        "id": "GmoW0Mg1gv6j",
        "outputId": "4bbc6545-e363-4ec1-8bb4-38d923bd368a"
      },
      "outputs": [
        {
          "data": {
            "text/plain": [
              "Unnamed: 0      False\n",
              "id              False\n",
              "url             False\n",
              "region          False\n",
              "region_url      False\n",
              "price           False\n",
              "year             True\n",
              "manufacturer     True\n",
              "model            True\n",
              "condition        True\n",
              "cylinders        True\n",
              "fuel             True\n",
              "odometer         True\n",
              "title_status     True\n",
              "transmission     True\n",
              "VIN              True\n",
              "drive            True\n",
              "size             True\n",
              "type             True\n",
              "paint_color      True\n",
              "image_url        True\n",
              "description      True\n",
              "county           True\n",
              "state           False\n",
              "lat              True\n",
              "long             True\n",
              "posting_date     True\n",
              "dtype: bool"
            ]
          },
          "execution_count": 74,
          "metadata": {},
          "output_type": "execute_result"
        }
      ],
      "source": [
        "vehicle_df.isna().any()\n",
        "#before I dropped all those other cols, everything was false, after, I had true for many cols"
      ]
    },
    {
      "cell_type": "code",
      "execution_count": 75,
      "metadata": {
        "id": "W9NJ96s4gl8m"
      },
      "outputs": [],
      "source": [
        "# print(\"Check for Null Values\", possum_data.isnull().values.any())\n",
        "# possum_data = possum_data.dropna()\n",
        "\n",
        "\n",
        "# price, year, manufacturer, condition, odometer, type, and paint color"
      ]
    },
    {
      "cell_type": "code",
      "execution_count": 76,
      "metadata": {
        "id": "RK9FOtxTg3KX"
      },
      "outputs": [],
      "source": [
        "# vehicle_df = vehicle_df.dropna()\n",
        "\n",
        "# When I ran this code, everything was delted in the df"
      ]
    },
    {
      "cell_type": "code",
      "execution_count": 77,
      "metadata": {
        "id": "gvM47BjFjX4t"
      },
      "outputs": [],
      "source": [
        "new_vehicle_df = vehicle_df.drop(['id', 'url','region','region_url','model','cylinders','fuel','title_status','transmission','VIN','drive','size',\n",
        "                 'image_url','description','county','state','lat','long',\n",
        "                 'posting_date'], axis=1)\n",
        "\n",
        "#This does not work unless I set the axis parameter to 1(why is this?)"
      ]
    },
    {
      "cell_type": "code",
      "execution_count": 78,
      "metadata": {
        "colab": {
          "base_uri": "https://localhost:8080/",
          "height": 424
        },
        "id": "DN1JEFC3lQVI",
        "outputId": "5ecdc029-8fbb-4fd9-be36-1ca40208ee0b"
      },
      "outputs": [
        {
          "data": {
            "text/html": [
              "<div>\n",
              "<style scoped>\n",
              "    .dataframe tbody tr th:only-of-type {\n",
              "        vertical-align: middle;\n",
              "    }\n",
              "\n",
              "    .dataframe tbody tr th {\n",
              "        vertical-align: top;\n",
              "    }\n",
              "\n",
              "    .dataframe thead th {\n",
              "        text-align: right;\n",
              "    }\n",
              "</style>\n",
              "<table border=\"1\" class=\"dataframe\">\n",
              "  <thead>\n",
              "    <tr style=\"text-align: right;\">\n",
              "      <th></th>\n",
              "      <th>Unnamed: 0</th>\n",
              "      <th>price</th>\n",
              "      <th>year</th>\n",
              "      <th>manufacturer</th>\n",
              "      <th>condition</th>\n",
              "      <th>odometer</th>\n",
              "      <th>type</th>\n",
              "      <th>paint_color</th>\n",
              "    </tr>\n",
              "  </thead>\n",
              "  <tbody>\n",
              "    <tr>\n",
              "      <th>0</th>\n",
              "      <td>262922</td>\n",
              "      <td>9950</td>\n",
              "      <td>2013.0</td>\n",
              "      <td>ford</td>\n",
              "      <td>like new</td>\n",
              "      <td>95000.0</td>\n",
              "      <td>hatchback</td>\n",
              "      <td>white</td>\n",
              "    </tr>\n",
              "    <tr>\n",
              "      <th>1</th>\n",
              "      <td>119600</td>\n",
              "      <td>39500</td>\n",
              "      <td>2016.0</td>\n",
              "      <td>gmc</td>\n",
              "      <td>excellent</td>\n",
              "      <td>91351.0</td>\n",
              "      <td>SUV</td>\n",
              "      <td>NaN</td>\n",
              "    </tr>\n",
              "    <tr>\n",
              "      <th>2</th>\n",
              "      <td>293948</td>\n",
              "      <td>24329</td>\n",
              "      <td>2018.0</td>\n",
              "      <td>gmc</td>\n",
              "      <td>NaN</td>\n",
              "      <td>14598.0</td>\n",
              "      <td>SUV</td>\n",
              "      <td>brown</td>\n",
              "    </tr>\n",
              "    <tr>\n",
              "      <th>3</th>\n",
              "      <td>254392</td>\n",
              "      <td>12300</td>\n",
              "      <td>2016.0</td>\n",
              "      <td>mitsubishi</td>\n",
              "      <td>excellent</td>\n",
              "      <td>107071.0</td>\n",
              "      <td>SUV</td>\n",
              "      <td>silver</td>\n",
              "    </tr>\n",
              "    <tr>\n",
              "      <th>4</th>\n",
              "      <td>116669</td>\n",
              "      <td>19995</td>\n",
              "      <td>2015.0</td>\n",
              "      <td>chevrolet</td>\n",
              "      <td>NaN</td>\n",
              "      <td>213013.0</td>\n",
              "      <td>pickup</td>\n",
              "      <td>black</td>\n",
              "    </tr>\n",
              "    <tr>\n",
              "      <th>...</th>\n",
              "      <td>...</td>\n",
              "      <td>...</td>\n",
              "      <td>...</td>\n",
              "      <td>...</td>\n",
              "      <td>...</td>\n",
              "      <td>...</td>\n",
              "      <td>...</td>\n",
              "      <td>...</td>\n",
              "    </tr>\n",
              "    <tr>\n",
              "      <th>49995</th>\n",
              "      <td>250572</td>\n",
              "      <td>31590</td>\n",
              "      <td>2017.0</td>\n",
              "      <td>bmw</td>\n",
              "      <td>good</td>\n",
              "      <td>34455.0</td>\n",
              "      <td>coupe</td>\n",
              "      <td>blue</td>\n",
              "    </tr>\n",
              "    <tr>\n",
              "      <th>49996</th>\n",
              "      <td>204486</td>\n",
              "      <td>5495</td>\n",
              "      <td>2010.0</td>\n",
              "      <td>chrysler</td>\n",
              "      <td>NaN</td>\n",
              "      <td>144909.0</td>\n",
              "      <td>NaN</td>\n",
              "      <td>NaN</td>\n",
              "    </tr>\n",
              "    <tr>\n",
              "      <th>49997</th>\n",
              "      <td>366950</td>\n",
              "      <td>51495</td>\n",
              "      <td>2019.0</td>\n",
              "      <td>infiniti</td>\n",
              "      <td>NaN</td>\n",
              "      <td>23193.0</td>\n",
              "      <td>NaN</td>\n",
              "      <td>white</td>\n",
              "    </tr>\n",
              "    <tr>\n",
              "      <th>49998</th>\n",
              "      <td>271655</td>\n",
              "      <td>14995</td>\n",
              "      <td>2013.0</td>\n",
              "      <td>ford</td>\n",
              "      <td>good</td>\n",
              "      <td>118198.0</td>\n",
              "      <td>van</td>\n",
              "      <td>silver</td>\n",
              "    </tr>\n",
              "    <tr>\n",
              "      <th>49999</th>\n",
              "      <td>143996</td>\n",
              "      <td>20950</td>\n",
              "      <td>2013.0</td>\n",
              "      <td>chevrolet</td>\n",
              "      <td>excellent</td>\n",
              "      <td>94952.0</td>\n",
              "      <td>truck</td>\n",
              "      <td>black</td>\n",
              "    </tr>\n",
              "  </tbody>\n",
              "</table>\n",
              "<p>50000 rows × 8 columns</p>\n",
              "</div>"
            ],
            "text/plain": [
              "       Unnamed: 0  price    year manufacturer  condition  odometer       type  \\\n",
              "0          262922   9950  2013.0         ford   like new   95000.0  hatchback   \n",
              "1          119600  39500  2016.0          gmc  excellent   91351.0        SUV   \n",
              "2          293948  24329  2018.0          gmc        NaN   14598.0        SUV   \n",
              "3          254392  12300  2016.0   mitsubishi  excellent  107071.0        SUV   \n",
              "4          116669  19995  2015.0    chevrolet        NaN  213013.0     pickup   \n",
              "...           ...    ...     ...          ...        ...       ...        ...   \n",
              "49995      250572  31590  2017.0          bmw       good   34455.0      coupe   \n",
              "49996      204486   5495  2010.0     chrysler        NaN  144909.0        NaN   \n",
              "49997      366950  51495  2019.0     infiniti        NaN   23193.0        NaN   \n",
              "49998      271655  14995  2013.0         ford       good  118198.0        van   \n",
              "49999      143996  20950  2013.0    chevrolet  excellent   94952.0      truck   \n",
              "\n",
              "      paint_color  \n",
              "0           white  \n",
              "1             NaN  \n",
              "2           brown  \n",
              "3          silver  \n",
              "4           black  \n",
              "...           ...  \n",
              "49995        blue  \n",
              "49996         NaN  \n",
              "49997       white  \n",
              "49998      silver  \n",
              "49999       black  \n",
              "\n",
              "[50000 rows x 8 columns]"
            ]
          },
          "execution_count": 78,
          "metadata": {},
          "output_type": "execute_result"
        }
      ],
      "source": [
        "new_vehicle_df\n"
      ]
    },
    {
      "cell_type": "code",
      "execution_count": 79,
      "metadata": {
        "colab": {
          "base_uri": "https://localhost:8080/",
          "height": 206
        },
        "id": "KhR6eif0nlvx",
        "outputId": "b10966d3-4b91-4bd3-e485-053e72949531"
      },
      "outputs": [
        {
          "data": {
            "text/html": [
              "<div>\n",
              "<style scoped>\n",
              "    .dataframe tbody tr th:only-of-type {\n",
              "        vertical-align: middle;\n",
              "    }\n",
              "\n",
              "    .dataframe tbody tr th {\n",
              "        vertical-align: top;\n",
              "    }\n",
              "\n",
              "    .dataframe thead th {\n",
              "        text-align: right;\n",
              "    }\n",
              "</style>\n",
              "<table border=\"1\" class=\"dataframe\">\n",
              "  <thead>\n",
              "    <tr style=\"text-align: right;\">\n",
              "      <th></th>\n",
              "      <th>Unnamed: 0</th>\n",
              "      <th>price</th>\n",
              "      <th>year</th>\n",
              "      <th>manufacturer</th>\n",
              "      <th>condition</th>\n",
              "      <th>odometer</th>\n",
              "      <th>type</th>\n",
              "      <th>paint_color</th>\n",
              "    </tr>\n",
              "  </thead>\n",
              "  <tbody>\n",
              "    <tr>\n",
              "      <th>0</th>\n",
              "      <td>262922</td>\n",
              "      <td>9950</td>\n",
              "      <td>2013.0</td>\n",
              "      <td>ford</td>\n",
              "      <td>like new</td>\n",
              "      <td>95000.0</td>\n",
              "      <td>hatchback</td>\n",
              "      <td>white</td>\n",
              "    </tr>\n",
              "    <tr>\n",
              "      <th>1</th>\n",
              "      <td>119600</td>\n",
              "      <td>39500</td>\n",
              "      <td>2016.0</td>\n",
              "      <td>gmc</td>\n",
              "      <td>excellent</td>\n",
              "      <td>91351.0</td>\n",
              "      <td>SUV</td>\n",
              "      <td>NaN</td>\n",
              "    </tr>\n",
              "    <tr>\n",
              "      <th>2</th>\n",
              "      <td>293948</td>\n",
              "      <td>24329</td>\n",
              "      <td>2018.0</td>\n",
              "      <td>gmc</td>\n",
              "      <td>NaN</td>\n",
              "      <td>14598.0</td>\n",
              "      <td>SUV</td>\n",
              "      <td>brown</td>\n",
              "    </tr>\n",
              "    <tr>\n",
              "      <th>3</th>\n",
              "      <td>254392</td>\n",
              "      <td>12300</td>\n",
              "      <td>2016.0</td>\n",
              "      <td>mitsubishi</td>\n",
              "      <td>excellent</td>\n",
              "      <td>107071.0</td>\n",
              "      <td>SUV</td>\n",
              "      <td>silver</td>\n",
              "    </tr>\n",
              "    <tr>\n",
              "      <th>4</th>\n",
              "      <td>116669</td>\n",
              "      <td>19995</td>\n",
              "      <td>2015.0</td>\n",
              "      <td>chevrolet</td>\n",
              "      <td>NaN</td>\n",
              "      <td>213013.0</td>\n",
              "      <td>pickup</td>\n",
              "      <td>black</td>\n",
              "    </tr>\n",
              "  </tbody>\n",
              "</table>\n",
              "</div>"
            ],
            "text/plain": [
              "   Unnamed: 0  price    year manufacturer  condition  odometer       type  \\\n",
              "0      262922   9950  2013.0         ford   like new   95000.0  hatchback   \n",
              "1      119600  39500  2016.0          gmc  excellent   91351.0        SUV   \n",
              "2      293948  24329  2018.0          gmc        NaN   14598.0        SUV   \n",
              "3      254392  12300  2016.0   mitsubishi  excellent  107071.0        SUV   \n",
              "4      116669  19995  2015.0    chevrolet        NaN  213013.0     pickup   \n",
              "\n",
              "  paint_color  \n",
              "0       white  \n",
              "1         NaN  \n",
              "2       brown  \n",
              "3      silver  \n",
              "4       black  "
            ]
          },
          "execution_count": 79,
          "metadata": {},
          "output_type": "execute_result"
        }
      ],
      "source": [
        "new_vehicle_df.head()"
      ]
    },
    {
      "cell_type": "code",
      "execution_count": 80,
      "metadata": {
        "id": "LsNAQI4thGVz"
      },
      "outputs": [],
      "source": [
        "# new_vehicle_df = vehicle_df[vehicle_df[\"\"]=='']\n",
        "# Masks are a way to create a smaller Dataframe where only certain conditions are true. We do this by putting a conditional expression\n",
        " #(an expression that evaluates to either True or False) after the name of the Dataframe.\n",
        " #Only the rows of the Dataframe that result in a True value will be returned"
      ]
    },
    {
      "cell_type": "code",
      "execution_count": 81,
      "metadata": {
        "id": "34ixhm8ic7Bd"
      },
      "outputs": [],
      "source": [
        "# vehicle_df.fillna(value=False, method=None, axis=None, inplace=False, limit=None, downcast=None)"
      ]
    },
    {
      "cell_type": "markdown",
      "metadata": {
        "id": "pTR83W1WQVLu"
      },
      "source": [
        "**EXERCISE 3:** Check to see if the Dataframe contains any null values (NaN). If it does, remove the entire row containing the null value.  How many data points did you remove with this method?"
      ]
    },
    {
      "cell_type": "code",
      "execution_count": 82,
      "metadata": {
        "colab": {
          "base_uri": "https://localhost:8080/"
        },
        "id": "1utT1G3Copo5",
        "outputId": "4e7525be-dae5-4f26-8363-f2b26f86eeb1"
      },
      "outputs": [
        {
          "data": {
            "text/plain": [
              "Unnamed: 0      False\n",
              "price           False\n",
              "year             True\n",
              "manufacturer     True\n",
              "condition        True\n",
              "odometer         True\n",
              "type             True\n",
              "paint_color      True\n",
              "dtype: bool"
            ]
          },
          "execution_count": 82,
          "metadata": {},
          "output_type": "execute_result"
        }
      ],
      "source": [
        "new_vehicle_df.isnull().any()"
      ]
    },
    {
      "cell_type": "code",
      "execution_count": 83,
      "metadata": {
        "colab": {
          "base_uri": "https://localhost:8080/"
        },
        "id": "0o4iMMitndw6",
        "outputId": "a4a00cb4-e14f-495c-f936-a9758c057b39"
      },
      "outputs": [
        {
          "data": {
            "text/plain": [
              "True"
            ]
          },
          "execution_count": 83,
          "metadata": {},
          "output_type": "execute_result"
        }
      ],
      "source": [
        "new_vehicle_df.isnull().sum().any()"
      ]
    },
    {
      "cell_type": "code",
      "execution_count": 84,
      "metadata": {
        "id": "2XE-1kfcodCB"
      },
      "outputs": [],
      "source": [
        "new_df = new_vehicle_df.dropna"
      ]
    },
    {
      "cell_type": "code",
      "execution_count": 85,
      "metadata": {
        "colab": {
          "base_uri": "https://localhost:8080/"
        },
        "id": "GUUNY4AXqMGW",
        "outputId": "cf2446e8-5f70-40c8-9cd6-8f03cffa0e58"
      },
      "outputs": [
        {
          "data": {
            "text/plain": [
              "<bound method DataFrame.dropna of        Unnamed: 0  price    year manufacturer  condition  odometer       type  \\\n",
              "0          262922   9950  2013.0         ford   like new   95000.0  hatchback   \n",
              "1          119600  39500  2016.0          gmc  excellent   91351.0        SUV   \n",
              "2          293948  24329  2018.0          gmc        NaN   14598.0        SUV   \n",
              "3          254392  12300  2016.0   mitsubishi  excellent  107071.0        SUV   \n",
              "4          116669  19995  2015.0    chevrolet        NaN  213013.0     pickup   \n",
              "...           ...    ...     ...          ...        ...       ...        ...   \n",
              "49995      250572  31590  2017.0          bmw       good   34455.0      coupe   \n",
              "49996      204486   5495  2010.0     chrysler        NaN  144909.0        NaN   \n",
              "49997      366950  51495  2019.0     infiniti        NaN   23193.0        NaN   \n",
              "49998      271655  14995  2013.0         ford       good  118198.0        van   \n",
              "49999      143996  20950  2013.0    chevrolet  excellent   94952.0      truck   \n",
              "\n",
              "      paint_color  \n",
              "0           white  \n",
              "1             NaN  \n",
              "2           brown  \n",
              "3          silver  \n",
              "4           black  \n",
              "...           ...  \n",
              "49995        blue  \n",
              "49996         NaN  \n",
              "49997       white  \n",
              "49998      silver  \n",
              "49999       black  \n",
              "\n",
              "[50000 rows x 8 columns]>"
            ]
          },
          "execution_count": 85,
          "metadata": {},
          "output_type": "execute_result"
        }
      ],
      "source": [
        "new_df"
      ]
    },
    {
      "cell_type": "code",
      "execution_count": 86,
      "metadata": {
        "colab": {
          "base_uri": "https://localhost:8080/",
          "height": 424
        },
        "id": "hoIUpXBoomaW",
        "outputId": "927b3740-9dc8-4462-eac7-f5b57c1279dd"
      },
      "outputs": [
        {
          "data": {
            "text/html": [
              "<div>\n",
              "<style scoped>\n",
              "    .dataframe tbody tr th:only-of-type {\n",
              "        vertical-align: middle;\n",
              "    }\n",
              "\n",
              "    .dataframe tbody tr th {\n",
              "        vertical-align: top;\n",
              "    }\n",
              "\n",
              "    .dataframe thead th {\n",
              "        text-align: right;\n",
              "    }\n",
              "</style>\n",
              "<table border=\"1\" class=\"dataframe\">\n",
              "  <thead>\n",
              "    <tr style=\"text-align: right;\">\n",
              "      <th></th>\n",
              "      <th>Unnamed: 0</th>\n",
              "      <th>price</th>\n",
              "      <th>year</th>\n",
              "      <th>manufacturer</th>\n",
              "      <th>condition</th>\n",
              "      <th>odometer</th>\n",
              "      <th>type</th>\n",
              "      <th>paint_color</th>\n",
              "    </tr>\n",
              "  </thead>\n",
              "  <tbody>\n",
              "    <tr>\n",
              "      <th>0</th>\n",
              "      <td>262922</td>\n",
              "      <td>9950</td>\n",
              "      <td>2013.0</td>\n",
              "      <td>ford</td>\n",
              "      <td>like new</td>\n",
              "      <td>95000.0</td>\n",
              "      <td>hatchback</td>\n",
              "      <td>white</td>\n",
              "    </tr>\n",
              "    <tr>\n",
              "      <th>3</th>\n",
              "      <td>254392</td>\n",
              "      <td>12300</td>\n",
              "      <td>2016.0</td>\n",
              "      <td>mitsubishi</td>\n",
              "      <td>excellent</td>\n",
              "      <td>107071.0</td>\n",
              "      <td>SUV</td>\n",
              "      <td>silver</td>\n",
              "    </tr>\n",
              "    <tr>\n",
              "      <th>6</th>\n",
              "      <td>94681</td>\n",
              "      <td>64900</td>\n",
              "      <td>2019.0</td>\n",
              "      <td>audi</td>\n",
              "      <td>excellent</td>\n",
              "      <td>21846.0</td>\n",
              "      <td>SUV</td>\n",
              "      <td>black</td>\n",
              "    </tr>\n",
              "    <tr>\n",
              "      <th>7</th>\n",
              "      <td>346298</td>\n",
              "      <td>19990</td>\n",
              "      <td>2019.0</td>\n",
              "      <td>kia</td>\n",
              "      <td>good</td>\n",
              "      <td>30590.0</td>\n",
              "      <td>wagon</td>\n",
              "      <td>white</td>\n",
              "    </tr>\n",
              "    <tr>\n",
              "      <th>9</th>\n",
              "      <td>543</td>\n",
              "      <td>10900</td>\n",
              "      <td>2010.0</td>\n",
              "      <td>honda</td>\n",
              "      <td>good</td>\n",
              "      <td>97804.0</td>\n",
              "      <td>wagon</td>\n",
              "      <td>grey</td>\n",
              "    </tr>\n",
              "    <tr>\n",
              "      <th>...</th>\n",
              "      <td>...</td>\n",
              "      <td>...</td>\n",
              "      <td>...</td>\n",
              "      <td>...</td>\n",
              "      <td>...</td>\n",
              "      <td>...</td>\n",
              "      <td>...</td>\n",
              "      <td>...</td>\n",
              "    </tr>\n",
              "    <tr>\n",
              "      <th>49990</th>\n",
              "      <td>191930</td>\n",
              "      <td>3250</td>\n",
              "      <td>2011.0</td>\n",
              "      <td>subaru</td>\n",
              "      <td>good</td>\n",
              "      <td>212000.0</td>\n",
              "      <td>hatchback</td>\n",
              "      <td>black</td>\n",
              "    </tr>\n",
              "    <tr>\n",
              "      <th>49992</th>\n",
              "      <td>189012</td>\n",
              "      <td>45590</td>\n",
              "      <td>2018.0</td>\n",
              "      <td>mercedes-benz</td>\n",
              "      <td>good</td>\n",
              "      <td>5277.0</td>\n",
              "      <td>coupe</td>\n",
              "      <td>white</td>\n",
              "    </tr>\n",
              "    <tr>\n",
              "      <th>49995</th>\n",
              "      <td>250572</td>\n",
              "      <td>31590</td>\n",
              "      <td>2017.0</td>\n",
              "      <td>bmw</td>\n",
              "      <td>good</td>\n",
              "      <td>34455.0</td>\n",
              "      <td>coupe</td>\n",
              "      <td>blue</td>\n",
              "    </tr>\n",
              "    <tr>\n",
              "      <th>49998</th>\n",
              "      <td>271655</td>\n",
              "      <td>14995</td>\n",
              "      <td>2013.0</td>\n",
              "      <td>ford</td>\n",
              "      <td>good</td>\n",
              "      <td>118198.0</td>\n",
              "      <td>van</td>\n",
              "      <td>silver</td>\n",
              "    </tr>\n",
              "    <tr>\n",
              "      <th>49999</th>\n",
              "      <td>143996</td>\n",
              "      <td>20950</td>\n",
              "      <td>2013.0</td>\n",
              "      <td>chevrolet</td>\n",
              "      <td>excellent</td>\n",
              "      <td>94952.0</td>\n",
              "      <td>truck</td>\n",
              "      <td>black</td>\n",
              "    </tr>\n",
              "  </tbody>\n",
              "</table>\n",
              "<p>20555 rows × 8 columns</p>\n",
              "</div>"
            ],
            "text/plain": [
              "       Unnamed: 0  price    year   manufacturer  condition  odometer  \\\n",
              "0          262922   9950  2013.0           ford   like new   95000.0   \n",
              "3          254392  12300  2016.0     mitsubishi  excellent  107071.0   \n",
              "6           94681  64900  2019.0           audi  excellent   21846.0   \n",
              "7          346298  19990  2019.0            kia       good   30590.0   \n",
              "9             543  10900  2010.0          honda       good   97804.0   \n",
              "...           ...    ...     ...            ...        ...       ...   \n",
              "49990      191930   3250  2011.0         subaru       good  212000.0   \n",
              "49992      189012  45590  2018.0  mercedes-benz       good    5277.0   \n",
              "49995      250572  31590  2017.0            bmw       good   34455.0   \n",
              "49998      271655  14995  2013.0           ford       good  118198.0   \n",
              "49999      143996  20950  2013.0      chevrolet  excellent   94952.0   \n",
              "\n",
              "            type paint_color  \n",
              "0      hatchback       white  \n",
              "3            SUV      silver  \n",
              "6            SUV       black  \n",
              "7          wagon       white  \n",
              "9          wagon        grey  \n",
              "...          ...         ...  \n",
              "49990  hatchback       black  \n",
              "49992      coupe       white  \n",
              "49995      coupe        blue  \n",
              "49998        van      silver  \n",
              "49999      truck       black  \n",
              "\n",
              "[20555 rows x 8 columns]"
            ]
          },
          "execution_count": 86,
          "metadata": {},
          "output_type": "execute_result"
        }
      ],
      "source": [
        "new_df = new_vehicle_df.dropna()\n",
        "new_df"
      ]
    },
    {
      "cell_type": "code",
      "execution_count": 87,
      "metadata": {
        "id": "_OI9zGidouYE"
      },
      "outputs": [],
      "source": [
        "# x.isnull().sum()"
      ]
    },
    {
      "cell_type": "code",
      "execution_count": 88,
      "metadata": {
        "id": "ZmMftsAXpgOz"
      },
      "outputs": [],
      "source": [
        "# x.isnull().any()"
      ]
    },
    {
      "cell_type": "code",
      "execution_count": 89,
      "metadata": {
        "colab": {
          "base_uri": "https://localhost:8080/",
          "height": 424
        },
        "id": "yz1jJ60EpRzQ",
        "outputId": "d9852dce-9726-4297-b4c4-b245036b3253"
      },
      "outputs": [
        {
          "data": {
            "text/html": [
              "<div>\n",
              "<style scoped>\n",
              "    .dataframe tbody tr th:only-of-type {\n",
              "        vertical-align: middle;\n",
              "    }\n",
              "\n",
              "    .dataframe tbody tr th {\n",
              "        vertical-align: top;\n",
              "    }\n",
              "\n",
              "    .dataframe thead th {\n",
              "        text-align: right;\n",
              "    }\n",
              "</style>\n",
              "<table border=\"1\" class=\"dataframe\">\n",
              "  <thead>\n",
              "    <tr style=\"text-align: right;\">\n",
              "      <th></th>\n",
              "      <th>Unnamed: 0</th>\n",
              "      <th>price</th>\n",
              "      <th>year</th>\n",
              "      <th>manufacturer</th>\n",
              "      <th>condition</th>\n",
              "      <th>odometer</th>\n",
              "      <th>type</th>\n",
              "      <th>paint_color</th>\n",
              "    </tr>\n",
              "  </thead>\n",
              "  <tbody>\n",
              "    <tr>\n",
              "      <th>0</th>\n",
              "      <td>False</td>\n",
              "      <td>False</td>\n",
              "      <td>False</td>\n",
              "      <td>False</td>\n",
              "      <td>False</td>\n",
              "      <td>False</td>\n",
              "      <td>False</td>\n",
              "      <td>False</td>\n",
              "    </tr>\n",
              "    <tr>\n",
              "      <th>1</th>\n",
              "      <td>False</td>\n",
              "      <td>False</td>\n",
              "      <td>False</td>\n",
              "      <td>False</td>\n",
              "      <td>False</td>\n",
              "      <td>False</td>\n",
              "      <td>False</td>\n",
              "      <td>True</td>\n",
              "    </tr>\n",
              "    <tr>\n",
              "      <th>2</th>\n",
              "      <td>False</td>\n",
              "      <td>False</td>\n",
              "      <td>False</td>\n",
              "      <td>False</td>\n",
              "      <td>True</td>\n",
              "      <td>False</td>\n",
              "      <td>False</td>\n",
              "      <td>False</td>\n",
              "    </tr>\n",
              "    <tr>\n",
              "      <th>3</th>\n",
              "      <td>False</td>\n",
              "      <td>False</td>\n",
              "      <td>False</td>\n",
              "      <td>False</td>\n",
              "      <td>False</td>\n",
              "      <td>False</td>\n",
              "      <td>False</td>\n",
              "      <td>False</td>\n",
              "    </tr>\n",
              "    <tr>\n",
              "      <th>4</th>\n",
              "      <td>False</td>\n",
              "      <td>False</td>\n",
              "      <td>False</td>\n",
              "      <td>False</td>\n",
              "      <td>True</td>\n",
              "      <td>False</td>\n",
              "      <td>False</td>\n",
              "      <td>False</td>\n",
              "    </tr>\n",
              "    <tr>\n",
              "      <th>...</th>\n",
              "      <td>...</td>\n",
              "      <td>...</td>\n",
              "      <td>...</td>\n",
              "      <td>...</td>\n",
              "      <td>...</td>\n",
              "      <td>...</td>\n",
              "      <td>...</td>\n",
              "      <td>...</td>\n",
              "    </tr>\n",
              "    <tr>\n",
              "      <th>49995</th>\n",
              "      <td>False</td>\n",
              "      <td>False</td>\n",
              "      <td>False</td>\n",
              "      <td>False</td>\n",
              "      <td>False</td>\n",
              "      <td>False</td>\n",
              "      <td>False</td>\n",
              "      <td>False</td>\n",
              "    </tr>\n",
              "    <tr>\n",
              "      <th>49996</th>\n",
              "      <td>False</td>\n",
              "      <td>False</td>\n",
              "      <td>False</td>\n",
              "      <td>False</td>\n",
              "      <td>True</td>\n",
              "      <td>False</td>\n",
              "      <td>True</td>\n",
              "      <td>True</td>\n",
              "    </tr>\n",
              "    <tr>\n",
              "      <th>49997</th>\n",
              "      <td>False</td>\n",
              "      <td>False</td>\n",
              "      <td>False</td>\n",
              "      <td>False</td>\n",
              "      <td>True</td>\n",
              "      <td>False</td>\n",
              "      <td>True</td>\n",
              "      <td>False</td>\n",
              "    </tr>\n",
              "    <tr>\n",
              "      <th>49998</th>\n",
              "      <td>False</td>\n",
              "      <td>False</td>\n",
              "      <td>False</td>\n",
              "      <td>False</td>\n",
              "      <td>False</td>\n",
              "      <td>False</td>\n",
              "      <td>False</td>\n",
              "      <td>False</td>\n",
              "    </tr>\n",
              "    <tr>\n",
              "      <th>49999</th>\n",
              "      <td>False</td>\n",
              "      <td>False</td>\n",
              "      <td>False</td>\n",
              "      <td>False</td>\n",
              "      <td>False</td>\n",
              "      <td>False</td>\n",
              "      <td>False</td>\n",
              "      <td>False</td>\n",
              "    </tr>\n",
              "  </tbody>\n",
              "</table>\n",
              "<p>50000 rows × 8 columns</p>\n",
              "</div>"
            ],
            "text/plain": [
              "       Unnamed: 0  price   year  manufacturer  condition  odometer   type  \\\n",
              "0           False  False  False         False      False     False  False   \n",
              "1           False  False  False         False      False     False  False   \n",
              "2           False  False  False         False       True     False  False   \n",
              "3           False  False  False         False      False     False  False   \n",
              "4           False  False  False         False       True     False  False   \n",
              "...           ...    ...    ...           ...        ...       ...    ...   \n",
              "49995       False  False  False         False      False     False  False   \n",
              "49996       False  False  False         False       True     False   True   \n",
              "49997       False  False  False         False       True     False   True   \n",
              "49998       False  False  False         False      False     False  False   \n",
              "49999       False  False  False         False      False     False  False   \n",
              "\n",
              "       paint_color  \n",
              "0            False  \n",
              "1             True  \n",
              "2            False  \n",
              "3            False  \n",
              "4            False  \n",
              "...            ...  \n",
              "49995        False  \n",
              "49996         True  \n",
              "49997        False  \n",
              "49998        False  \n",
              "49999        False  \n",
              "\n",
              "[50000 rows x 8 columns]"
            ]
          },
          "execution_count": 89,
          "metadata": {},
          "output_type": "execute_result"
        }
      ],
      "source": [
        "new_vehicle_df.isnull()"
      ]
    },
    {
      "cell_type": "code",
      "execution_count": 90,
      "metadata": {
        "colab": {
          "base_uri": "https://localhost:8080/"
        },
        "id": "M12gBO08qcNU",
        "outputId": "8e96bbef-f820-49f6-a695-037e2abf4cdc"
      },
      "outputs": [
        {
          "name": "stdout",
          "output_type": "stream",
          "text": [
            "Index(['Unnamed: 0', 'price', 'year', 'manufacturer', 'condition', 'odometer',\n",
            "       'type', 'paint_color'],\n",
            "      dtype='object')\n",
            "<class 'pandas.core.frame.DataFrame'>\n",
            "RangeIndex: 50000 entries, 0 to 49999\n",
            "Data columns (total 8 columns):\n",
            " #   Column        Non-Null Count  Dtype  \n",
            "---  ------        --------------  -----  \n",
            " 0   Unnamed: 0    50000 non-null  int64  \n",
            " 1   price         50000 non-null  int64  \n",
            " 2   year          49878 non-null  float64\n",
            " 3   manufacturer  47880 non-null  object \n",
            " 4   condition     29513 non-null  object \n",
            " 5   odometer      49517 non-null  float64\n",
            " 6   type          39158 non-null  object \n",
            " 7   paint_color   34902 non-null  object \n",
            "dtypes: float64(2), int64(2), object(4)\n",
            "memory usage: 3.1+ MB\n",
            "None\n"
          ]
        }
      ],
      "source": [
        "print(new_vehicle_df.keys())\n",
        "print(new_vehicle_df.info())\n",
        "\n",
        "#this returns the col headings and the col values(like a dictionary)"
      ]
    },
    {
      "cell_type": "code",
      "execution_count": 91,
      "metadata": {
        "colab": {
          "base_uri": "https://localhost:8080/"
        },
        "id": "AA6yLBzUrz7_",
        "outputId": "d7618fb2-5c17-4f8d-c659-b796f86478bb"
      },
      "outputs": [],
      "source": [
        "\n",
        "#data types for cols and non_null count"
      ]
    },
    {
      "cell_type": "code",
      "execution_count": 92,
      "metadata": {
        "colab": {
          "base_uri": "https://localhost:8080/"
        },
        "id": "8M6NdfL2Rp5j",
        "outputId": "b53d2039-7e8e-4c6b-f8e4-fd8f914b628f"
      },
      "outputs": [
        {
          "data": {
            "text/plain": [
              "(50000, 8)"
            ]
          },
          "execution_count": 92,
          "metadata": {},
          "output_type": "execute_result"
        }
      ],
      "source": [
        "new_vehicle_df.shape"
      ]
    },
    {
      "cell_type": "code",
      "execution_count": 93,
      "metadata": {
        "colab": {
          "base_uri": "https://localhost:8080/"
        },
        "id": "1xFz6RjtUcJW",
        "outputId": "0c62282d-330d-4688-d56f-db002f4dfbfc"
      },
      "outputs": [
        {
          "data": {
            "text/plain": [
              "(20555, 8)"
            ]
          },
          "execution_count": 93,
          "metadata": {},
          "output_type": "execute_result"
        }
      ],
      "source": [
        "new_df.shape"
      ]
    },
    {
      "cell_type": "code",
      "execution_count": 94,
      "metadata": {
        "colab": {
          "base_uri": "https://localhost:8080/"
        },
        "id": "VgxHM4dHVDN6",
        "outputId": "f2c7d457-087c-4afa-cfc9-18c56efd6ab0"
      },
      "outputs": [
        {
          "data": {
            "text/plain": [
              "<bound method NDFrame.describe of 0         9950\n",
              "3        12300\n",
              "6        64900\n",
              "7        19990\n",
              "9        10900\n",
              "         ...  \n",
              "49990     3250\n",
              "49992    45590\n",
              "49995    31590\n",
              "49998    14995\n",
              "49999    20950\n",
              "Name: price, Length: 20555, dtype: int64>"
            ]
          },
          "execution_count": 94,
          "metadata": {},
          "output_type": "execute_result"
        }
      ],
      "source": [
        "new_df['price'].describe"
      ]
    },
    {
      "cell_type": "code",
      "execution_count": 95,
      "metadata": {
        "id": "U2_7g0EBq_Ug"
      },
      "outputs": [],
      "source": [
        "# If a data set has to be all numbers, do you have to change certain cols to numerical like week 1 inclass"
      ]
    },
    {
      "cell_type": "markdown",
      "metadata": {
        "id": "zLo3j8OoR8hd"
      },
      "source": [
        "**EXERCISE 4:** Create a plot of price as a function of the odometer reading using either Matplotlib or Seaborn. Comment on the appearance of the graph after you make it."
      ]
    },
    {
      "cell_type": "code",
      "execution_count": 96,
      "metadata": {
        "id": "JMgd7PaOumZw"
      },
      "outputs": [],
      "source": [
        "# for col in new_vehicle_df:\n",
        "#     plt.plot(new_vehicle_df[col])\n",
        "#     plt.title(col)\n",
        "#     plt.show()"
      ]
    },
    {
      "cell_type": "code",
      "execution_count": 97,
      "metadata": {
        "id": "sYR-Nfrrwh9t"
      },
      "outputs": [],
      "source": [
        "# plt.figure(figsize=(10,10))\n",
        "# plt.plot(['price'],['odometer'])\n",
        "# plt.show()"
      ]
    },
    {
      "cell_type": "code",
      "execution_count": 98,
      "metadata": {},
      "outputs": [
        {
          "data": {
            "text/plain": [
              "Unnamed: 0  price  year    manufacturer  condition  odometer  type       paint_color\n",
              "40          30990  2016.0  chevrolet     good       34940.0   pickup     blue           1\n",
              "275598      37590  2015.0  porsche       good       61163.0   other      white          1\n",
              "276715      29590  2019.0  bmw           good       28115.0   coupe      black          1\n",
              "276683      3600   2012.0  chevrolet     like new   130000.0  hatchback  grey           1\n",
              "276680      39500  2014.0  porsche       like new   55900.0   hatchback  white          1\n",
              "                                                                                       ..\n",
              "142991      63990  2019.0  audi          good       20126.0   other      black          1\n",
              "142989      43990  2020.0  buick         good       2212.0    other      black          1\n",
              "142967      27990  2019.0  infiniti      good       32042.0   SUV        blue           1\n",
              "142960      27590  2016.0  ram           good       64791.0   pickup     black          1\n",
              "426874      33590  2018.0  lexus         good       30814.0   sedan      white          1\n",
              "Length: 20555, dtype: int64"
            ]
          },
          "execution_count": 98,
          "metadata": {},
          "output_type": "execute_result"
        }
      ],
      "source": [
        "new_df.value_counts()"
      ]
    },
    {
      "cell_type": "code",
      "execution_count": 99,
      "metadata": {},
      "outputs": [],
      "source": [
        "corr = new_df.corr()"
      ]
    },
    {
      "cell_type": "code",
      "execution_count": 100,
      "metadata": {},
      "outputs": [
        {
          "data": {
            "image/png": "[encoded data removed]",
            "text/plain": [
              "<Figure size 576x576 with 1 Axes>"
            ]
          },
          "metadata": {
            "needs_background": "light"
          },
          "output_type": "display_data"
        }
      ],
      "source": [
        "fig = plt.figure(figsize=(8,8))\n",
        "plt.matshow(corr,cmap='RdBu',fignum=fig.number)\n",
        "plt.xticks(range(len(corr.columns)),corr.columns,rotation='vertical');\n",
        "plt.yticks(range(len(corr.columns)),corr.columns);\n",
        "#darkred is negative corr\n",
        "# high corr is blue\n"
      ]
    },
    {
      "cell_type": "code",
      "execution_count": 101,
      "metadata": {
        "colab": {
          "base_uri": "https://localhost:8080/",
          "height": 465
        },
        "id": "jhPXsU_Tvdi3",
        "outputId": "33cb281d-49e2-4dc2-e0fb-b9ccf99a02b7"
      },
      "outputs": [
        {
          "data": {
            "image/png": "[encoded data removed]",
            "text/plain": [
              "<Figure size 432x288 with 1 Axes>"
            ]
          },
          "metadata": {
            "needs_background": "light"
          },
          "output_type": "display_data"
        }
      ],
      "source": [
        "new_df.plot(x='odometer',y='price',style='o')\n",
        "plt.xlabel=('odometer')\n",
        "plt.ylabel=('price')\n",
        "plt.show()\n",
        "#This is sucks "
      ]
    },
    {
      "cell_type": "code",
      "execution_count": 102,
      "metadata": {},
      "outputs": [
        {
          "data": {
            "text/plain": [
              "<AxesSubplot:xlabel='odometer', ylabel='price'>"
            ]
          },
          "execution_count": 102,
          "metadata": {},
          "output_type": "execute_result"
        },
        {
          "data": {
            "image/png": "[encoded data removed]",
            "text/plain": [
              "<Figure size 432x288 with 1 Axes>"
            ]
          },
          "metadata": {
            "needs_background": "light"
          },
          "output_type": "display_data"
        }
      ],
      "source": [
        "new_df.plot(kind='scatter',x='odometer',y='price')"
      ]
    },
    {
      "cell_type": "markdown",
      "metadata": {},
      "source": [
        "Make a mask for this"
      ]
    },
    {
      "cell_type": "code",
      "execution_count": 103,
      "metadata": {
        "colab": {
          "base_uri": "https://localhost:8080/",
          "height": 448
        },
        "id": "lVxunWwhVh6E",
        "outputId": "37368366-2ba7-437a-82c0-b57019ea51ce"
      },
      "outputs": [
        {
          "data": {
            "image/png": "[encoded data removed]",
            "text/plain": [
              "<Figure size 432x288 with 1 Axes>"
            ]
          },
          "metadata": {
            "needs_background": "light"
          },
          "output_type": "display_data"
        }
      ],
      "source": [
        "new_df.plot(kind='box',vert=False)\n",
        "\n",
        "#vert= False makes it horizontal\n",
        "xlim=1000\n",
        "ylim=1000\n",
        "plt.show()\n"
      ]
    },
    {
      "cell_type": "code",
      "execution_count": 104,
      "metadata": {
        "colab": {
          "base_uri": "https://localhost:8080/",
          "height": 255
        },
        "id": "PUblduVzWZf0",
        "outputId": "6db7a854-7bc6-4bf7-f1c8-b7e4d31c3c74"
      },
      "outputs": [
        {
          "name": "stdout",
          "output_type": "stream",
          "text": [
            "AxesSubplot(0.125,0.125;0.775x0.755)\n",
            "AxesSubplot(0.135,0.125;0.755x0.755)\n"
          ]
        },
        {
          "data": {
            "image/png": "[encoded data removed]",
            "text/plain": [
              "<Figure size 144x144 with 1 Axes>"
            ]
          },
          "metadata": {},
          "output_type": "display_data"
        }
      ],
      "source": [
        "print(new_df.plot(kind='density',figsize=(2,2)))\n",
        "print(new_df['year'].value_counts().plot(kind='pie'))\n",
        "#this stacks 2 graphs on top of each other ?how do I sperate them but execute on one line?"
      ]
    },
    {
      "cell_type": "code",
      "execution_count": 105,
      "metadata": {},
      "outputs": [
        {
          "data": {
            "text/plain": [
              "<AxesSubplot:ylabel='year'>"
            ]
          },
          "execution_count": 105,
          "metadata": {},
          "output_type": "execute_result"
        },
        {
          "data": {
            "image/png": "[encoded data removed]",
            "text/plain": [
              "<Figure size 144x144 with 1 Axes>"
            ]
          },
          "metadata": {},
          "output_type": "display_data"
        }
      ],
      "source": [
        "new_df.plot(kind='density',figsize=(2,2))\n",
        "new_df['year'].value_counts().plot(kind='pie')"
      ]
    },
    {
      "cell_type": "code",
      "execution_count": 106,
      "metadata": {
        "id": "Nl_Q0gIhVCGU"
      },
      "outputs": [
        {
          "name": "stdout",
          "output_type": "stream",
          "text": [
            "AxesSubplot(0.260833,0.125;0.503333x0.755)\n"
          ]
        },
        {
          "data": {
            "image/png": "[encoded data removed]",
            "text/plain": [
              "<Figure size 432x288 with 1 Axes>"
            ]
          },
          "metadata": {},
          "output_type": "display_data"
        }
      ],
      "source": [
        "print(new_df['year'].value_counts().plot(kind='pie'))"
      ]
    },
    {
      "cell_type": "code",
      "execution_count": 107,
      "metadata": {},
      "outputs": [
        {
          "data": {
            "text/html": [
              "<div>\n",
              "<style scoped>\n",
              "    .dataframe tbody tr th:only-of-type {\n",
              "        vertical-align: middle;\n",
              "    }\n",
              "\n",
              "    .dataframe tbody tr th {\n",
              "        vertical-align: top;\n",
              "    }\n",
              "\n",
              "    .dataframe thead th {\n",
              "        text-align: right;\n",
              "    }\n",
              "</style>\n",
              "<table border=\"1\" class=\"dataframe\">\n",
              "  <thead>\n",
              "    <tr style=\"text-align: right;\">\n",
              "      <th></th>\n",
              "      <th>Unnamed: 0</th>\n",
              "      <th>price</th>\n",
              "      <th>year</th>\n",
              "      <th>odometer</th>\n",
              "    </tr>\n",
              "  </thead>\n",
              "  <tbody>\n",
              "    <tr>\n",
              "      <th>count</th>\n",
              "      <td>20555.000000</td>\n",
              "      <td>2.055500e+04</td>\n",
              "      <td>20555.000000</td>\n",
              "      <td>2.055500e+04</td>\n",
              "    </tr>\n",
              "    <tr>\n",
              "      <th>mean</th>\n",
              "      <td>210112.178302</td>\n",
              "      <td>7.960007e+04</td>\n",
              "      <td>2011.331209</td>\n",
              "      <td>9.294856e+04</td>\n",
              "    </tr>\n",
              "    <tr>\n",
              "      <th>std</th>\n",
              "      <td>121445.410589</td>\n",
              "      <td>7.798833e+06</td>\n",
              "      <td>8.998733</td>\n",
              "      <td>1.843143e+05</td>\n",
              "    </tr>\n",
              "    <tr>\n",
              "      <th>min</th>\n",
              "      <td>40.000000</td>\n",
              "      <td>0.000000e+00</td>\n",
              "      <td>1925.000000</td>\n",
              "      <td>0.000000e+00</td>\n",
              "    </tr>\n",
              "    <tr>\n",
              "      <th>25%</th>\n",
              "      <td>104161.500000</td>\n",
              "      <td>6.995000e+03</td>\n",
              "      <td>2008.000000</td>\n",
              "      <td>3.173900e+04</td>\n",
              "    </tr>\n",
              "    <tr>\n",
              "      <th>50%</th>\n",
              "      <td>210826.000000</td>\n",
              "      <td>1.514900e+04</td>\n",
              "      <td>2013.000000</td>\n",
              "      <td>7.993700e+04</td>\n",
              "    </tr>\n",
              "    <tr>\n",
              "      <th>75%</th>\n",
              "      <td>309016.500000</td>\n",
              "      <td>2.790000e+04</td>\n",
              "      <td>2017.000000</td>\n",
              "      <td>1.324545e+05</td>\n",
              "    </tr>\n",
              "    <tr>\n",
              "      <th>max</th>\n",
              "      <td>426874.000000</td>\n",
              "      <td>1.111111e+09</td>\n",
              "      <td>2022.000000</td>\n",
              "      <td>9.999999e+06</td>\n",
              "    </tr>\n",
              "  </tbody>\n",
              "</table>\n",
              "</div>"
            ],
            "text/plain": [
              "          Unnamed: 0         price          year      odometer\n",
              "count   20555.000000  2.055500e+04  20555.000000  2.055500e+04\n",
              "mean   210112.178302  7.960007e+04   2011.331209  9.294856e+04\n",
              "std    121445.410589  7.798833e+06      8.998733  1.843143e+05\n",
              "min        40.000000  0.000000e+00   1925.000000  0.000000e+00\n",
              "25%    104161.500000  6.995000e+03   2008.000000  3.173900e+04\n",
              "50%    210826.000000  1.514900e+04   2013.000000  7.993700e+04\n",
              "75%    309016.500000  2.790000e+04   2017.000000  1.324545e+05\n",
              "max    426874.000000  1.111111e+09   2022.000000  9.999999e+06"
            ]
          },
          "execution_count": 107,
          "metadata": {},
          "output_type": "execute_result"
        }
      ],
      "source": [
        "new_df.describe()\n",
        "#the max is too high"
      ]
    },
    {
      "cell_type": "markdown",
      "metadata": {
        "id": "4Vmxv4JGSqQd"
      },
      "source": [
        "**EXERCISE 5:** You should notice that there are outliers both in the price dimension and in the odometer dimension (or at least what graphically appears to be outliers). Print out the minimum, maximum, and average for the price data set and the odometer data set. Do the mininim and maximum values seem reasonable?  Another important aspect of data cleaning outside of just removing missing and not needed data is making sure that the data that is present is reasonable and relatively error free."
      ]
    },
    {
      "cell_type": "markdown",
      "metadata": {},
      "source": [
        "new_df = pd.DataFrame(boolean_mask.astype(int))"
      ]
    },
    {
      "cell_type": "code",
      "execution_count": 108,
      "metadata": {
        "id": "1GC495Poxjml"
      },
      "outputs": [
        {
          "name": "stdout",
          "output_type": "stream",
          "text": [
            "0     True\n",
            "3    False\n",
            "6     True\n",
            "7     True\n",
            "9     True\n",
            "dtype: bool\n",
            "count     20555\n",
            "unique        2\n",
            "top        True\n",
            "freq      12260\n",
            "dtype: object\n"
          ]
        }
      ],
      "source": [
        "new_df_mask = (new_df['price'] < 100000) & (new_df['odometer'] < 100000)\n",
        "print(new_df_mask.head())\n",
        "print(new_df_mask.describe())"
      ]
    },
    {
      "cell_type": "code",
      "execution_count": 109,
      "metadata": {},
      "outputs": [],
      "source": [
        "Applied_new_df = new_df[new_df_mask]\n",
        "#to actually aply the mask you need to put do ====>   new_df[new_df_mask] -> this applies the mask to new_df "
      ]
    },
    {
      "cell_type": "code",
      "execution_count": 110,
      "metadata": {},
      "outputs": [],
      "source": [
        "# Applied_new_df = Applied_new_df.loc[(Applied_new_df!=0).any(axis=1)] #axis=1 drops col and axis=0 drops rows\n",
        "# This drops all cols with 0 "
      ]
    },
    {
      "cell_type": "code",
      "execution_count": 111,
      "metadata": {},
      "outputs": [
        {
          "data": {
            "text/html": [
              "<div>\n",
              "<style scoped>\n",
              "    .dataframe tbody tr th:only-of-type {\n",
              "        vertical-align: middle;\n",
              "    }\n",
              "\n",
              "    .dataframe tbody tr th {\n",
              "        vertical-align: top;\n",
              "    }\n",
              "\n",
              "    .dataframe thead th {\n",
              "        text-align: right;\n",
              "    }\n",
              "</style>\n",
              "<table border=\"1\" class=\"dataframe\">\n",
              "  <thead>\n",
              "    <tr style=\"text-align: right;\">\n",
              "      <th></th>\n",
              "      <th>Unnamed: 0</th>\n",
              "      <th>price</th>\n",
              "      <th>year</th>\n",
              "      <th>odometer</th>\n",
              "    </tr>\n",
              "  </thead>\n",
              "  <tbody>\n",
              "    <tr>\n",
              "      <th>count</th>\n",
              "      <td>12260.000000</td>\n",
              "      <td>12260.000000</td>\n",
              "      <td>12260.000000</td>\n",
              "      <td>12260.000000</td>\n",
              "    </tr>\n",
              "    <tr>\n",
              "      <th>mean</th>\n",
              "      <td>208317.669902</td>\n",
              "      <td>23724.720962</td>\n",
              "      <td>2013.824633</td>\n",
              "      <td>44080.342170</td>\n",
              "    </tr>\n",
              "    <tr>\n",
              "      <th>std</th>\n",
              "      <td>122016.939276</td>\n",
              "      <td>13316.596745</td>\n",
              "      <td>9.370029</td>\n",
              "      <td>29009.740298</td>\n",
              "    </tr>\n",
              "    <tr>\n",
              "      <th>min</th>\n",
              "      <td>40.000000</td>\n",
              "      <td>0.000000</td>\n",
              "      <td>1925.000000</td>\n",
              "      <td>0.000000</td>\n",
              "    </tr>\n",
              "    <tr>\n",
              "      <th>25%</th>\n",
              "      <td>101140.250000</td>\n",
              "      <td>14590.000000</td>\n",
              "      <td>2013.000000</td>\n",
              "      <td>19511.000000</td>\n",
              "    </tr>\n",
              "    <tr>\n",
              "      <th>50%</th>\n",
              "      <td>206729.500000</td>\n",
              "      <td>23590.000000</td>\n",
              "      <td>2016.000000</td>\n",
              "      <td>39219.000000</td>\n",
              "    </tr>\n",
              "    <tr>\n",
              "      <th>75%</th>\n",
              "      <td>307439.500000</td>\n",
              "      <td>32990.000000</td>\n",
              "      <td>2018.000000</td>\n",
              "      <td>69748.500000</td>\n",
              "    </tr>\n",
              "    <tr>\n",
              "      <th>max</th>\n",
              "      <td>426874.000000</td>\n",
              "      <td>99950.000000</td>\n",
              "      <td>2022.000000</td>\n",
              "      <td>99999.000000</td>\n",
              "    </tr>\n",
              "  </tbody>\n",
              "</table>\n",
              "</div>"
            ],
            "text/plain": [
              "          Unnamed: 0         price          year      odometer\n",
              "count   12260.000000  12260.000000  12260.000000  12260.000000\n",
              "mean   208317.669902  23724.720962   2013.824633  44080.342170\n",
              "std    122016.939276  13316.596745      9.370029  29009.740298\n",
              "min        40.000000      0.000000   1925.000000      0.000000\n",
              "25%    101140.250000  14590.000000   2013.000000  19511.000000\n",
              "50%    206729.500000  23590.000000   2016.000000  39219.000000\n",
              "75%    307439.500000  32990.000000   2018.000000  69748.500000\n",
              "max    426874.000000  99950.000000   2022.000000  99999.000000"
            ]
          },
          "execution_count": 111,
          "metadata": {},
          "output_type": "execute_result"
        }
      ],
      "source": [
        "Applied_new_df.describe()"
      ]
    },
    {
      "cell_type": "code",
      "execution_count": 112,
      "metadata": {},
      "outputs": [],
      "source": [
        "# new_df_mask_1 = pd.DataFrame(new_df_mask)\n",
        "#how to change back into a dataframe"
      ]
    },
    {
      "cell_type": "markdown",
      "metadata": {
        "id": "ATgo7bfLTOK8"
      },
      "source": [
        "**EXERCISE 6:** If a point is an outlier in either price or odometer reading, remove the entire row from the Dataframe. There are many ways to find outliers and you can use any method you know from statistics courses or that you can find online **as long as you can explain how it works**."
      ]
    },
    {
      "cell_type": "code",
      "execution_count": null,
      "metadata": {
        "id": "hzymX7x4xvp-"
      },
      "outputs": [],
      "source": []
    },
    {
      "cell_type": "markdown",
      "metadata": {
        "id": "6VJOe913TgSE"
      },
      "source": [
        "**EXERCISE 7:** Recreate the price vs. odometer plot again to ensure that the outliers have been removed. How many data points are we left with?"
      ]
    },
    {
      "cell_type": "code",
      "execution_count": 113,
      "metadata": {
        "id": "9LlmUMeXTgYt"
      },
      "outputs": [
        {
          "data": {
            "text/plain": [
              "<AxesSubplot:xlabel='odometer', ylabel='price'>"
            ]
          },
          "execution_count": 113,
          "metadata": {},
          "output_type": "execute_result"
        },
        {
          "data": {
            "image/png": "[encoded data removed]",
            "text/plain": [
              "<Figure size 432x288 with 1 Axes>"
            ]
          },
          "metadata": {
            "needs_background": "light"
          },
          "output_type": "display_data"
        }
      ],
      "source": [
        "Applied_new_df.plot(kind='scatter',x='odometer',y='price')"
      ]
    },
    {
      "cell_type": "code",
      "execution_count": 118,
      "metadata": {},
      "outputs": [
        {
          "data": {
            "text/plain": [
              "<AxesSubplot:xlabel='odometer', ylabel='price'>"
            ]
          },
          "execution_count": 118,
          "metadata": {},
          "output_type": "execute_result"
        },
        {
          "data": {
            "image/png": "[encoded data removed]",
            "text/plain": [
              "<Figure size 432x288 with 1 Axes>"
            ]
          },
          "metadata": {
            "needs_background": "light"
          },
          "output_type": "display_data"
        }
      ],
      "source": [
        "sns.regplot(x='odometer',y='price',data=Applied_new_df)"
      ]
    },
    {
      "cell_type": "markdown",
      "metadata": {
        "id": "MSFW5FlTTqS8"
      },
      "source": [
        "We have now cleaned and formated the data according to the price vs. odometer relationship, but we still have several columns of data we have not touched. These columns contain non-numeric data which will need to be converted into numeric values before we can use them in any type of data science or machine learning code. We will learn how to do this next week when we talk about machine learning for classification problems."
      ]
    },
    {
      "cell_type": "markdown",
      "metadata": {
        "id": "lqyaRRPifVCN"
      },
      "source": [
        "## Part 2: The Machine Learning Workflow\n",
        "\n",
        "**Exercise 8:** Describe the steps that are needed to analyze a data set with machine learning."
      ]
    },
    {
      "cell_type": "markdown",
      "metadata": {
        "id": "2fTOU2AGfx9i"
      },
      "source": []
    },
    {
      "cell_type": "markdown",
      "metadata": {
        "id": "naXV6t6AfyO4"
      },
      "source": [
        "**Exercise 9:** On September 8th you will have to turn in an initial proposal for you final project. Do you currently have any ideas on what you would what to do? Do you need help coming up with a project topic?"
      ]
    },
    {
      "cell_type": "markdown",
      "metadata": {
        "id": "iCrf2QHmgI6y"
      },
      "source": []
    },
    {
      "cell_type": "markdown",
      "metadata": {
        "id": "SbhngqyaSQe5"
      },
      "source": [
        "## Notebook Submission\n",
        "\n",
        "Once you have completed this notebook, submit it on D2L.  Convert the notebook to a PDF using File > Print > Save as PDF.  Make sure all code outputs including graphs are visible on the PDF."
      ]
    }
  ],
  "metadata": {
    "colab": {
      "provenance": []
    },
    "kernelspec": {
      "display_name": "Python 3.9.7 ('base')",
      "language": "python",
      "name": "python3"
    },
    "language_info": {
      "codemirror_mode": {
        "name": "ipython",
        "version": 3
      },
      "file_extension": ".py",
      "mimetype": "text/x-python",
      "name": "python",
      "nbconvert_exporter": "python",
      "pygments_lexer": "ipython3",
      "version": "3.9.7"
    },
    "vscode": {
      "interpreter": {
        "hash": "8944ce01e784aca1764e05c6bc4edfb3e2be3d5e823041cc7b0be7395fdc6587"
      }
    }
  },
  "nbformat": 4,
  "nbformat_minor": 0
}
